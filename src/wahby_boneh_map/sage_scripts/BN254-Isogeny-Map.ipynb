{
 "cells": [
  {
   "cell_type": "code",
   "execution_count": 1,
   "id": "adequate-breed",
   "metadata": {},
   "outputs": [],
   "source": [
    "import sage.schemes.elliptic_curves.isogeny_small_degree as isd\n",
    "\n",
    "# look for isogenous curves having j-invariant not in {0, 1728}\n",
    "# Caution: this can take a while!\n",
    "def find_iso(E):\n",
    "    for p_test in primes(5):\n",
    "        isos = [ i for i in isd.isogenies_prime_degree(E, p_test) if i.codomain().j_invariant() not in (0, 1728) ]\n",
    "        if len(isos) > 0:\n",
    "            return isos[0].dual()\n",
    "    return None\n",
    "\n",
    "# BN254 parameters \n",
    "q = 16798108731015832284940804142231733909759579603404752749028378864165570215949\n",
    "p = 16798108731015832284940804142231733909889187121439069848933715426072753864723\n",
    "\n",
    "assert is_prime(p)\n",
    "assert is_prime(q)\n",
    "\n",
    "# E1\n",
    "F = GF(p)\n",
    "Ell = EllipticCurve(F, [0, 2])\n",
    "assert Ell.order() == q\n",
    "\n",
    "iso_G1 = find_iso(Ell) # an isogeny from E’ to E,\n",
    "Ell_prime = iso_G1.domain() # where this is E’\n",
    "assert iso_G1(Ell_prime.random_point()).curve() == Ell"
   ]
  },
  {
   "cell_type": "code",
   "execution_count": 2,
   "id": "played-welsh",
   "metadata": {},
   "outputs": [
    {
     "data": {
      "text/plain": [
       "Isogeny of degree 3 from Elliptic Curve defined by y^2 = x^3 + 16798108731015832068084442708154438012295934837684635093117171897687148068043*x + 506 over Finite Field of size 16798108731015832284940804142231733909889187121439069848933715426072753864723 to Elliptic Curve defined by y^2 = x^3 + 2 over Finite Field of size 16798108731015832284940804142231733909889187121439069848933715426072753864723"
      ]
     },
     "execution_count": 2,
     "metadata": {},
     "output_type": "execute_result"
    }
   ],
   "source": [
    "iso_G1"
   ]
  },
  {
   "cell_type": "code",
   "execution_count": 3,
   "id": "jewish-leather",
   "metadata": {},
   "outputs": [
    {
     "data": {
      "text/plain": [
       "Elliptic Curve defined by y^2 = x^3 + 16798108731015832068084442708154438012295934837684635093117171897687148068043*x + 506 over Finite Field of size 16798108731015832284940804142231733909889187121439069848933715426072753864723"
      ]
     },
     "execution_count": 3,
     "metadata": {},
     "output_type": "execute_result"
    }
   ],
   "source": [
    "Ell_prime"
   ]
  },
  {
   "cell_type": "code",
   "execution_count": 4,
   "id": "material-subdivision",
   "metadata": {},
   "outputs": [
    {
     "data": {
      "text/plain": [
       "x + 10842818071703864794879662614187721737790827176419280289840"
      ]
     },
     "execution_count": 4,
     "metadata": {},
     "output_type": "execute_result"
    }
   ],
   "source": [
    "iso_G1.kernel_polynomial()"
   ]
  },
  {
   "cell_type": "code",
   "execution_count": 5,
   "id": "split-lightweight",
   "metadata": {},
   "outputs": [
    {
     "data": {
      "text/plain": [
       "((14931652205347406475502937015317096808790388552390284310163302600953558990865*x^3 + 5599369577005277430723116507789214591047431843632517002486977847895202463761*x^2 + 11198739154010554859036717888533125894343827550778873618798216323252787085334*x + 1866456525668425809437867126914637101098798569048785538770412825119194873875)/(x^2 + 21685636143407729589759325228375443475581654352838560579680*x + 65056908430223188769277975685126330426744963058515681739004),\n",
       " (16175956555793023681794848433260188209522920931756141336010244484366355573437*x^3*y + 11198739154010554857831960325010474250468309482535793425710346636983978164242*x^2*y + 13065195679678980674899958687568571762778722483790753520703934141805629538353*x*y + 15553804380570215078648892724288642509156654742073212823086773542659957282137*y)/(x^3 + 32528454215111594384638987842563165213372481529257840869520*x^2 + 195170725290669566307833927055378991280234889175547045217012*x + 16798108731015832284940804142231733909889187121439069848933715426072753864507))"
      ]
     },
     "execution_count": 5,
     "metadata": {},
     "output_type": "execute_result"
    }
   ],
   "source": [
    "iso_G1.rational_maps()"
   ]
  },
  {
   "cell_type": "code",
   "execution_count": null,
   "id": "black-basement",
   "metadata": {},
   "outputs": [],
   "source": []
  }
 ],
 "metadata": {
  "kernelspec": {
   "display_name": "SageMath 9.2",
   "language": "sage",
   "name": "sagemath"
  },
  "language_info": {
   "codemirror_mode": {
    "name": "ipython",
    "version": 3
   },
   "file_extension": ".py",
   "mimetype": "text/x-python",
   "name": "python",
   "nbconvert_exporter": "python",
   "pygments_lexer": "ipython3",
   "version": "3.9.1"
  }
 },
 "nbformat": 4,
 "nbformat_minor": 5
}
