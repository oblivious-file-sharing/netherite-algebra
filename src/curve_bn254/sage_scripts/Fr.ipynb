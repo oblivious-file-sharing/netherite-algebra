{
 "cells": [
  {
   "cell_type": "code",
   "execution_count": 1,
   "id": "coupled-netscape",
   "metadata": {},
   "outputs": [],
   "source": [
    "z = -(2^62 + 2^55 + 1)"
   ]
  },
  {
   "cell_type": "code",
   "execution_count": 2,
   "id": "spread-edinburgh",
   "metadata": {},
   "outputs": [],
   "source": [
    "n = 36 * z^4 + 36 * z^3 + 18 * z^2 + 6 * z + 1"
   ]
  },
  {
   "cell_type": "code",
   "execution_count": 3,
   "id": "worth-karen",
   "metadata": {},
   "outputs": [
    {
     "name": "stdout",
     "output_type": "stream",
     "text": [
      "16798108731015832284940804142231733909759579603404752749028378864165570215949\n",
      "11601272640106397709u64,\n",
      "18419581738456973328u64,\n",
      "13417434401994702855u64,\n",
      "2676093114170474497u64,\n"
     ]
    }
   ],
   "source": [
    "def print_repr(x):\n",
    "    a1 = x % 2^64\n",
    "    x = x - a1\n",
    "    x /= 2^64\n",
    "    a2 = x % 2^64\n",
    "    x = x - a2\n",
    "    x /= 2^64\n",
    "    a3 = x % 2^64\n",
    "    x = x - a3\n",
    "    x /= 2^64\n",
    "    a4 = x\n",
    "    print(\"{}u64,\".format(a1))\n",
    "    print(\"{}u64,\".format(a2))\n",
    "    print(\"{}u64,\".format(a3))\n",
    "    print(\"{}u64,\".format(a4))\n",
    "print(n)\n",
    "print_repr(n)"
   ]
  },
  {
   "cell_type": "code",
   "execution_count": 4,
   "id": "understanding-creek",
   "metadata": {},
   "outputs": [
    {
     "name": "stdout",
     "output_type": "stream",
     "text": [
      "15003436851221201713926160155297504394712507045212047545287310822919708344242\n",
      "4179340454199820210u64,\n",
      "162974011515469724u64,\n",
      "11729113956579540944u64,\n",
      "2390185388686704629u64,\n"
     ]
    }
   ],
   "source": [
    "r = 2^256 % n\n",
    "print(r)\n",
    "print_repr(r)"
   ]
  },
  {
   "cell_type": "code",
   "execution_count": 5,
   "id": "genuine-burner",
   "metadata": {},
   "outputs": [
    {
     "name": "stdout",
     "output_type": "stream",
     "text": [
      "16694411554397151134351660624246565287600790009138815106331186290317245196193\n",
      "16106445354883000225u64,\n",
      "16179270253117906627u64,\n",
      "14051360972075784824u64,\n",
      "2659573200842625077u64,\n"
     ]
    }
   ],
   "source": [
    "r2 = r * r % n\n",
    "print(r2)\n",
    "print_repr(r2)"
   ]
  },
  {
   "cell_type": "code",
   "execution_count": 6,
   "id": "centered-export",
   "metadata": {},
   "outputs": [
    {
     "name": "stdout",
     "output_type": "stream",
     "text": [
      "16878105680422351163\n"
     ]
    }
   ],
   "source": [
    "inv = pow(-n, -1, 2^64) \n",
    "print(inv)"
   ]
  },
  {
   "cell_type": "code",
   "execution_count": 7,
   "id": "diagnostic-czech",
   "metadata": {},
   "outputs": [
    {
     "data": {
      "text/plain": [
       "2^2 * 3 * 7 * 641 * 16843 * 140977 * 15698303 * 65982793 * 101148471075752777 * 1254043595354617963043866617659"
      ]
     },
     "execution_count": 7,
     "metadata": {},
     "output_type": "execute_result"
    }
   ],
   "source": [
    "factor(n - 1)"
   ]
  },
  {
   "cell_type": "code",
   "execution_count": 8,
   "id": "rising-haiti",
   "metadata": {},
   "outputs": [
    {
     "name": "stdout",
     "output_type": "stream",
     "text": [
      "16798108731015832284940804142231733909759579603404752749028378864165570215948\n",
      "16798108731015832281326531451663778977744202844572560870104532697422948728822\n",
      "3439778596503892040579556685709710858145194269075914047770531991520241470643\n",
      "295724641805128627214766943282233591798659393788673723258562182675898274099\n",
      "14731936015726988208430005971467466452182997990369233986787498664863932927835\n",
      "14704976932064931060767428464593526290158813001397864983589805530841288176613\n",
      "2492720395614565686860236692103504333975106074196428862671107559263501981\n",
      "935557152822859449313905752196478488374519148284285410941681945789931344355\n",
      "16352997049317084895759041701333328283831847277990557897891046155387331160930\n",
      "5991785192639272703656031650832898593729272639365829891762926024204243701912\n"
     ]
    }
   ],
   "source": [
    "gen = 2\n",
    "print(pow(gen, (n - 1) / 2, n))\n",
    "print(pow(gen, (n - 1) / 3, n))\n",
    "print(pow(gen, (n - 1) / 7, n))\n",
    "print(pow(gen, (n - 1) / 641, n))\n",
    "print(pow(gen, (n - 1) / 16843, n))\n",
    "print(pow(gen, (n - 1) / 140977, n))\n",
    "print(pow(gen, (n - 1) / 15698303, n))\n",
    "print(pow(gen, (n - 1) / 65982793, n))\n",
    "print(pow(gen, (n - 1) / 101148471075752777, n))\n",
    "print(pow(gen, (n - 1) / 1254043595354617963043866617659, n))"
   ]
  },
  {
   "cell_type": "code",
   "execution_count": 9,
   "id": "velvet-basic",
   "metadata": {},
   "outputs": [
    {
     "name": "stdout",
     "output_type": "stream",
     "text": [
      "13208764971426571142911516168363274879665434487019342341546242781673846472535\n",
      "15204152342002794327u64,\n",
      "353110358283517735u64,\n",
      "10040793511164379032u64,\n",
      "2104277663202934761u64,\n"
     ]
    }
   ],
   "source": [
    "gen_m = gen * r % n\n",
    "print(gen_m)\n",
    "print_repr(gen_m)"
   ]
  },
  {
   "cell_type": "code",
   "execution_count": 10,
   "id": "enormous-rating",
   "metadata": {},
   "outputs": [
    {
     "name": "stdout",
     "output_type": "stream",
     "text": [
      "8399054365507916142470402071115866954879789801702376374514189432082785107974\n",
      "5800636320053198854u64,\n",
      "18433162906083262472u64,\n",
      "15932089237852127235u64,\n",
      "1338046557085237248u64,\n"
     ]
    }
   ],
   "source": [
    "n_minus_1_div_2 = (n - 1) / 2\n",
    "print(n_minus_1_div_2)\n",
    "print_repr(n_minus_1_div_2)"
   ]
  },
  {
   "cell_type": "code",
   "execution_count": 11,
   "id": "honey-answer",
   "metadata": {},
   "outputs": [
    {
     "name": "stdout",
     "output_type": "stream",
     "text": [
      "4199527182753958071235201035557933477439894900851188187257094716041392553987\n",
      "2900318160026599427u64,\n",
      "18439953489896407044u64,\n",
      "7966044618926063617u64,\n",
      "669023278542618624u64,\n"
     ]
    }
   ],
   "source": [
    "t = (n - 1) / (2^2)\n",
    "print(t)\n",
    "print_repr(t)"
   ]
  },
  {
   "cell_type": "code",
   "execution_count": 12,
   "id": "beautiful-decision",
   "metadata": {},
   "outputs": [
    {
     "name": "stdout",
     "output_type": "stream",
     "text": [
      "2099763591376979035617600517778966738719947450425594093628547358020696276993\n",
      "1450159080013299713u64,\n",
      "18443348781802979330u64,\n",
      "3983022309463031808u64,\n",
      "334511639271309312u64,\n"
     ]
    }
   ],
   "source": [
    "t_minus_1_div_2 = (t - 1) / 2\n",
    "print(t_minus_1_div_2)\n",
    "print_repr(t_minus_1_div_2)"
   ]
  },
  {
   "cell_type": "code",
   "execution_count": 13,
   "id": "irish-provision",
   "metadata": {},
   "outputs": [
    {
     "name": "stdout",
     "output_type": "stream",
     "text": [
      "3614272690567954931885769240797874779046395893728115949589\n"
     ]
    }
   ],
   "source": [
    "two_adic_root_of_unity = pow(gen, t, n)\n",
    "print(two_adic_root_of_unity)"
   ]
  },
  {
   "cell_type": "code",
   "execution_count": 14,
   "id": "smaller-tourist",
   "metadata": {},
   "outputs": [
    {
     "name": "stdout",
     "output_type": "stream",
     "text": [
      "8305812840650662635365060647846364983128330516745030972369075661190390837455\n",
      "12517380601204666575u64,\n",
      "12489153293948124477u64,\n",
      "8319323408114352829u64,\n",
      "1323192325182062644u64,\n"
     ]
    }
   ],
   "source": [
    "two_adic_root_of_unity_m = Integer(two_adic_root_of_unity * r % n)\n",
    "print(two_adic_root_of_unity_m)\n",
    "print_repr(two_adic_root_of_unity_m)"
   ]
  },
  {
   "cell_type": "code",
   "execution_count": null,
   "id": "proof-annex",
   "metadata": {},
   "outputs": [],
   "source": []
  }
 ],
 "metadata": {
  "kernelspec": {
   "display_name": "SageMath 9.2",
   "language": "sage",
   "name": "sagemath"
  },
  "language_info": {
   "codemirror_mode": {
    "name": "ipython",
    "version": 3
   },
   "file_extension": ".py",
   "mimetype": "text/x-python",
   "name": "python",
   "nbconvert_exporter": "python",
   "pygments_lexer": "ipython3",
   "version": "3.9.7"
  }
 },
 "nbformat": 4,
 "nbformat_minor": 5
}
