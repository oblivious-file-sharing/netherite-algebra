{
 "cells": [
  {
   "cell_type": "code",
   "execution_count": 3,
   "id": "equivalent-trail",
   "metadata": {},
   "outputs": [],
   "source": [
    "q = 16798108731015832284940804142231733909889187121439069848933715426072753864723\n",
    "F = GF(q)\n",
    "K2.<x> = PolynomialRing(F)\n",
    "K.<a> = GF(q**2, name='a', modulus=x ^ 2 + 1)\n",
    "F2.<u> = F.extension(x ^ 2 + 1)\n",
    "\n",
    "# towering is extermely slow in sage, be careful"
   ]
  },
  {
   "cell_type": "code",
   "execution_count": 4,
   "id": "exceptional-rendering",
   "metadata": {},
   "outputs": [
    {
     "data": {
      "text/plain": [
       "16798108731015832283133667796947756444075910019074449559301910896669540483083*u"
      ]
     },
     "execution_count": 4,
     "metadata": {},
     "output_type": "execute_result"
    }
   ],
   "source": [
    "(u + 1) ^ ((q - 1) / 3)"
   ]
  },
  {
   "cell_type": "code",
   "execution_count": 5,
   "id": "british-bulgaria",
   "metadata": {},
   "outputs": [
    {
     "data": {
      "text/plain": [
       "16226349498735898878582721725794281106152147739300925444201528929117996286405*u + 16226349498735898878582721725794281106152147739300925444201528929117996286405"
      ]
     },
     "execution_count": 5,
     "metadata": {},
     "output_type": "execute_result"
    }
   ],
   "source": [
    "(u + 1) ^ ((q - 1) / 2)"
   ]
  },
  {
   "cell_type": "code",
   "execution_count": null,
   "id": "comprehensive-sheriff",
   "metadata": {},
   "outputs": [],
   "source": []
  }
 ],
 "metadata": {
  "kernelspec": {
   "display_name": "SageMath 9.2",
   "language": "sage",
   "name": "sagemath"
  },
  "language_info": {
   "codemirror_mode": {
    "name": "ipython",
    "version": 3
   },
   "file_extension": ".py",
   "mimetype": "text/x-python",
   "name": "python",
   "nbconvert_exporter": "python",
   "pygments_lexer": "ipython3",
   "version": "3.9.1"
  }
 },
 "nbformat": 4,
 "nbformat_minor": 5
}
