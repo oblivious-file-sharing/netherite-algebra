{
 "cells": [
  {
   "cell_type": "code",
   "execution_count": 1,
   "id": "affiliated-antigua",
   "metadata": {},
   "outputs": [],
   "source": [
    "q = 16798108731015832284940804142231733909889187121439069848933715426072753864723\n",
    "F = GF(q)\n",
    "K2.<x> = PolynomialRing(F)\n",
    "K.<a> = GF(q**2, name='a', modulus=x ^ 2 + 1)\n",
    "F2.<u> = F.extension(x ^ 2 + 1)\n",
    "K6.<y> = PolynomialRing(F2)\n",
    "F6.<v> = F2.extension(y ^ 3 - (u + 1))\n",
    "\n",
    "# towering is extermely slow in sage, be careful"
   ]
  },
  {
   "cell_type": "code",
   "execution_count": 2,
   "id": "reliable-tongue",
   "metadata": {},
   "outputs": [
    {
     "data": {
      "text/plain": [
       "4487670147142811624388069051070689792991121559221630186874470001192167903786*u + 12310438583873020660552735091161044116898065562217439662059245424880585960937"
      ]
     },
     "execution_count": 2,
     "metadata": {},
     "output_type": "execute_result"
    }
   ],
   "source": [
    "(u + 1) ^ ((q - 1) / 6)"
   ]
  },
  {
   "cell_type": "code",
   "execution_count": 3,
   "id": "quality-marketing",
   "metadata": {},
   "outputs": [
    {
     "data": {
      "text/plain": [
       "1807136345283977465813277102364620289631804529403213381640"
      ]
     },
     "execution_count": 3,
     "metadata": {},
     "output_type": "execute_result"
    }
   ],
   "source": [
    "(u + 1) ^ ((q^2 - 1) / 6)"
   ]
  },
  {
   "cell_type": "code",
   "execution_count": 4,
   "id": "sized-fiction",
   "metadata": {},
   "outputs": [
    {
     "data": {
      "text/plain": [
       "16226349498735898878582721725794281106152147739300925444201528929117996286405*u + 571759232279933406358082416437452803737039382138144404732186496954757578318"
      ]
     },
     "execution_count": 4,
     "metadata": {},
     "output_type": "execute_result"
    }
   ],
   "source": [
    "(u + 1) ^ ((q^3 - 1) / 6)"
   ]
  },
  {
   "cell_type": "code",
   "execution_count": 5,
   "id": "desirable-publication",
   "metadata": {},
   "outputs": [
    {
     "data": {
      "text/plain": [
       "1807136345283977465813277102364620289631804529403213381639"
      ]
     },
     "execution_count": 5,
     "metadata": {},
     "output_type": "execute_result"
    }
   ],
   "source": [
    "(u + 1) ^ ((q^4 - 1) / 6)"
   ]
  },
  {
   "cell_type": "code",
   "execution_count": 6,
   "id": "equal-ceramic",
   "metadata": {},
   "outputs": [
    {
     "data": {
      "text/plain": [
       "11738679351593087254194652674723591313161026180079295257327058927925828382619*u + 5059429379422745030746151467508142596728160941359774591606656498146925482104"
      ]
     },
     "execution_count": 6,
     "metadata": {},
     "output_type": "execute_result"
    }
   ],
   "source": [
    "(u + 1) ^ ((q^5 - 1) / 6)"
   ]
  },
  {
   "cell_type": "code",
   "execution_count": 7,
   "id": "biological-organizer",
   "metadata": {},
   "outputs": [
    {
     "data": {
      "text/plain": [
       "16798108731015832284940804142231733909889187121439069848933715426072753864722"
      ]
     },
     "execution_count": 7,
     "metadata": {},
     "output_type": "execute_result"
    }
   ],
   "source": [
    "(u + 1) ^ ((q^6 - 1) / 6)"
   ]
  },
  {
   "cell_type": "code",
   "execution_count": 8,
   "id": "communist-broadcasting",
   "metadata": {},
   "outputs": [
    {
     "data": {
      "text/plain": [
       "12310438583873020660552735091161044116898065562217439662059245424880585960937*u + 4487670147142811624388069051070689792991121559221630186874470001192167903786"
      ]
     },
     "execution_count": 8,
     "metadata": {},
     "output_type": "execute_result"
    }
   ],
   "source": [
    "(u + 1) ^ ((q^7 - 1) / 6)"
   ]
  },
  {
   "cell_type": "code",
   "execution_count": 9,
   "id": "eastern-hudson",
   "metadata": {},
   "outputs": [
    {
     "data": {
      "text/plain": [
       "16798108731015832283133667796947756444075910019074449559301910896669540483083"
      ]
     },
     "execution_count": 9,
     "metadata": {},
     "output_type": "execute_result"
    }
   ],
   "source": [
    "(u + 1) ^ ((q^8 - 1) / 6)"
   ]
  },
  {
   "cell_type": "code",
   "execution_count": 10,
   "id": "characteristic-crystal",
   "metadata": {},
   "outputs": [
    {
     "data": {
      "text/plain": [
       "571759232279933406358082416437452803737039382138144404732186496954757578318*u + 16226349498735898878582721725794281106152147739300925444201528929117996286405"
      ]
     },
     "execution_count": 10,
     "metadata": {},
     "output_type": "execute_result"
    }
   ],
   "source": [
    "(u + 1) ^ ((q^9 - 1) / 6)"
   ]
  },
  {
   "cell_type": "code",
   "execution_count": 11,
   "id": "elect-endorsement",
   "metadata": {},
   "outputs": [
    {
     "data": {
      "text/plain": [
       "16798108731015832283133667796947756444075910019074449559301910896669540483084"
      ]
     },
     "execution_count": 11,
     "metadata": {},
     "output_type": "execute_result"
    }
   ],
   "source": [
    "(u + 1) ^ ((q^10 - 1) / 6)"
   ]
  },
  {
   "cell_type": "code",
   "execution_count": 12,
   "id": "union-evidence",
   "metadata": {},
   "outputs": [
    {
     "data": {
      "text/plain": [
       "5059429379422745030746151467508142596728160941359774591606656498146925482104*u + 11738679351593087254194652674723591313161026180079295257327058927925828382619"
      ]
     },
     "execution_count": 12,
     "metadata": {},
     "output_type": "execute_result"
    }
   ],
   "source": [
    "(u + 1) ^ ((q^11 - 1) / 6)"
   ]
  },
  {
   "cell_type": "code",
   "execution_count": null,
   "id": "diagnostic-welcome",
   "metadata": {},
   "outputs": [],
   "source": []
  }
 ],
 "metadata": {
  "kernelspec": {
   "display_name": "SageMath 9.2",
   "language": "sage",
   "name": "sagemath"
  },
  "language_info": {
   "codemirror_mode": {
    "name": "ipython",
    "version": 3
   },
   "file_extension": ".py",
   "mimetype": "text/x-python",
   "name": "python",
   "nbconvert_exporter": "python",
   "pygments_lexer": "ipython3",
   "version": "3.9.1"
  }
 },
 "nbformat": 4,
 "nbformat_minor": 5
}
