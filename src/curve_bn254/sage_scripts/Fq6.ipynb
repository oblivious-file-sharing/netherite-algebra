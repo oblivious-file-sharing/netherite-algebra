{
 "cells": [
  {
   "cell_type": "code",
   "execution_count": 1,
   "id": "daily-dependence",
   "metadata": {},
   "outputs": [],
   "source": [
    "q = 16798108731015832284940804142231733909889187121439069848933715426072753864723\n",
    "F = GF(q)\n",
    "K2.<x> = PolynomialRing(F)\n",
    "K.<a> = GF(q**2, name='a', modulus=x ^ 2 + 1)\n",
    "F2.<u> = F.extension(x ^ 2 + 1)\n",
    "K6.<y> = PolynomialRing(F2)\n",
    "F6.<v> = F2.extension(y ^ 3 - (u + 1))\n",
    "\n",
    "# towering is extermely slow in sage, be careful"
   ]
  },
  {
   "cell_type": "code",
   "execution_count": 2,
   "id": "failing-pattern",
   "metadata": {},
   "outputs": [
    {
     "data": {
      "text/plain": [
       "16798108731015832283133667796947756444075910019074449559301910896669540483083*u"
      ]
     },
     "execution_count": 2,
     "metadata": {},
     "output_type": "execute_result"
    }
   ],
   "source": [
    "(u + 1) ^ ((q - 1) / 3)"
   ]
  },
  {
   "cell_type": "code",
   "execution_count": 3,
   "id": "cleared-revolution",
   "metadata": {},
   "outputs": [
    {
     "data": {
      "text/plain": [
       "1807136345283977465813277102364620289631804529403213381639"
      ]
     },
     "execution_count": 3,
     "metadata": {},
     "output_type": "execute_result"
    }
   ],
   "source": [
    "(u + 1) ^ ((q^2 - 1) / 3)"
   ]
  },
  {
   "cell_type": "code",
   "execution_count": 4,
   "id": "technical-representative",
   "metadata": {},
   "outputs": [
    {
     "data": {
      "text/plain": [
       "u"
      ]
     },
     "execution_count": 4,
     "metadata": {},
     "output_type": "execute_result"
    }
   ],
   "source": [
    "(u + 1) ^ ((q^3 - 1) / 3)"
   ]
  },
  {
   "cell_type": "code",
   "execution_count": 5,
   "id": "lesbian-biodiversity",
   "metadata": {},
   "outputs": [
    {
     "data": {
      "text/plain": [
       "16798108731015832283133667796947756444075910019074449559301910896669540483083"
      ]
     },
     "execution_count": 5,
     "metadata": {},
     "output_type": "execute_result"
    }
   ],
   "source": [
    "(u + 1) ^ ((q^4 - 1) / 3)"
   ]
  },
  {
   "cell_type": "code",
   "execution_count": 6,
   "id": "considerable-sunset",
   "metadata": {},
   "outputs": [
    {
     "data": {
      "text/plain": [
       "1807136345283977465813277102364620289631804529403213381639*u"
      ]
     },
     "execution_count": 6,
     "metadata": {},
     "output_type": "execute_result"
    }
   ],
   "source": [
    "(u + 1) ^ ((q^5 - 1) / 3)"
   ]
  },
  {
   "cell_type": "code",
   "execution_count": 7,
   "id": "another-nature",
   "metadata": {},
   "outputs": [
    {
     "data": {
      "text/plain": [
       "16798108731015832283133667796947756444075910019074449559301910896669540483084"
      ]
     },
     "execution_count": 7,
     "metadata": {},
     "output_type": "execute_result"
    }
   ],
   "source": [
    "(u + 1) ^ ((2*q - 2) / 3)"
   ]
  },
  {
   "cell_type": "code",
   "execution_count": 8,
   "id": "legal-senior",
   "metadata": {},
   "outputs": [
    {
     "data": {
      "text/plain": [
       "16798108731015832283133667796947756444075910019074449559301910896669540483083"
      ]
     },
     "execution_count": 8,
     "metadata": {},
     "output_type": "execute_result"
    }
   ],
   "source": [
    "(u + 1) ^ ((2*(q^2) - 2) / 3)"
   ]
  },
  {
   "cell_type": "code",
   "execution_count": 9,
   "id": "greek-addition",
   "metadata": {},
   "outputs": [
    {
     "data": {
      "text/plain": [
       "16798108731015832284940804142231733909889187121439069848933715426072753864722"
      ]
     },
     "execution_count": 9,
     "metadata": {},
     "output_type": "execute_result"
    }
   ],
   "source": [
    "(u + 1) ^ ((2*(q^3) - 2) / 3)"
   ]
  },
  {
   "cell_type": "code",
   "execution_count": 10,
   "id": "possible-track",
   "metadata": {},
   "outputs": [
    {
     "data": {
      "text/plain": [
       "1807136345283977465813277102364620289631804529403213381639"
      ]
     },
     "execution_count": 10,
     "metadata": {},
     "output_type": "execute_result"
    }
   ],
   "source": [
    "(u + 1) ^ ((2*(q^4) - 2) / 3)"
   ]
  },
  {
   "cell_type": "code",
   "execution_count": 11,
   "id": "excited-syntax",
   "metadata": {},
   "outputs": [
    {
     "data": {
      "text/plain": [
       "1807136345283977465813277102364620289631804529403213381640"
      ]
     },
     "execution_count": 11,
     "metadata": {},
     "output_type": "execute_result"
    }
   ],
   "source": [
    "(u + 1) ^ ((2*(q^5) - 2) / 3)"
   ]
  },
  {
   "cell_type": "code",
   "execution_count": null,
   "id": "offensive-definition",
   "metadata": {},
   "outputs": [],
   "source": []
  }
 ],
 "metadata": {
  "kernelspec": {
   "display_name": "SageMath 9.2",
   "language": "sage",
   "name": "sagemath"
  },
  "language_info": {
   "codemirror_mode": {
    "name": "ipython",
    "version": 3
   },
   "file_extension": ".py",
   "mimetype": "text/x-python",
   "name": "python",
   "nbconvert_exporter": "python",
   "pygments_lexer": "ipython3",
   "version": "3.9.1"
  }
 },
 "nbformat": 4,
 "nbformat_minor": 5
}
