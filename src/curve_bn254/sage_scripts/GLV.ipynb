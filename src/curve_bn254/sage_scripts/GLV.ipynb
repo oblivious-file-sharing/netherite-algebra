{
 "cells": [
  {
   "cell_type": "code",
   "execution_count": 1,
   "id": "3eaa2a32",
   "metadata": {},
   "outputs": [],
   "source": [
    "q = 16798108731015832284940804142231733909889187121439069848933715426072753864723"
   ]
  },
  {
   "cell_type": "code",
   "execution_count": 2,
   "id": "b81e96d6",
   "metadata": {},
   "outputs": [
    {
     "data": {
      "text/plain": [
       "[1,\n",
       " 16798108731015832283133667796947756444075910019074449559301910896669540483083,\n",
       " 1807136345283977465813277102364620289631804529403213381639]"
      ]
     },
     "execution_count": 2,
     "metadata": {},
     "output_type": "execute_result"
    }
   ],
   "source": [
    "mod(1, q).nth_root(3, all = True)"
   ]
  },
  {
   "cell_type": "code",
   "execution_count": 3,
   "id": "dd8c6783",
   "metadata": {},
   "outputs": [],
   "source": [
    "n = 16798108731015832284940804142231733909759579603404752749028378864165570215949\n",
    "sqrt_minus_3 = mod(n - 3, n).sqrt()"
   ]
  },
  {
   "cell_type": "code",
   "execution_count": 4,
   "id": "0e8dc4c3",
   "metadata": {},
   "outputs": [
    {
     "data": {
      "text/plain": [
       "3614272690567954932015376758832191878923846166742621487126"
      ]
     },
     "execution_count": 4,
     "metadata": {},
     "output_type": "execute_result"
    }
   ],
   "source": [
    "lambda_1 = mod(-1 + sqrt_minus_3, n) * inverse_mod(2, n)\n",
    "lambda_1"
   ]
  },
  {
   "cell_type": "code",
   "execution_count": 5,
   "id": "8bd379ad",
   "metadata": {},
   "outputs": [
    {
     "data": {
      "text/plain": [
       "16798108731015832281326531451663778977744202844572560870104532697422948728822"
      ]
     },
     "execution_count": 5,
     "metadata": {},
     "output_type": "execute_result"
    }
   ],
   "source": [
    "lambda_2 = mod(-1 - sqrt_minus_3, n) * inverse_mod(2, n)\n",
    "lambda_2"
   ]
  },
  {
   "cell_type": "code",
   "execution_count": 6,
   "id": "309fb575",
   "metadata": {},
   "outputs": [
    {
     "data": {
      "text/plain": [
       "(16798108731015832284940804142231733909889187121439069848933715426072753864722 : 1 : 1)"
      ]
     },
     "execution_count": 6,
     "metadata": {},
     "output_type": "execute_result"
    }
   ],
   "source": [
    "E = EllipticCurve(GF(q), [0,0,0,0,2])\n",
    "P = E(-1,1); P"
   ]
  },
  {
   "cell_type": "code",
   "execution_count": 7,
   "id": "e0e0b2b9",
   "metadata": {},
   "outputs": [
    {
     "data": {
      "text/plain": [
       "(16798108731015832283133667796947756444075910019074449559301910896669540483084 : 1 : 1)"
      ]
     },
     "execution_count": 7,
     "metadata": {},
     "output_type": "execute_result"
    }
   ],
   "source": [
    "Integer(lambda_1) * P"
   ]
  },
  {
   "cell_type": "code",
   "execution_count": 8,
   "id": "7aa4a0da",
   "metadata": {},
   "outputs": [
    {
     "data": {
      "text/plain": [
       "(1807136345283977465813277102364620289631804529403213381640 : 1 : 1)"
      ]
     },
     "execution_count": 8,
     "metadata": {},
     "output_type": "execute_result"
    }
   ],
   "source": [
    "Integer(lambda_2) * P"
   ]
  },
  {
   "cell_type": "code",
   "execution_count": 9,
   "id": "711b534e",
   "metadata": {},
   "outputs": [
    {
     "data": {
      "text/plain": [
       "(1807136345283977465813277102364620289631804529403213381640 : 1 : 1)"
      ]
     },
     "execution_count": 9,
     "metadata": {},
     "output_type": "execute_result"
    }
   ],
   "source": [
    "P1 = E(-1 * 16798108731015832283133667796947756444075910019074449559301910896669540483083, 1); P1"
   ]
  },
  {
   "cell_type": "code",
   "execution_count": 10,
   "id": "9c307c13",
   "metadata": {},
   "outputs": [
    {
     "data": {
      "text/plain": [
       "(16798108731015832283133667796947756444075910019074449559301910896669540483084 : 1 : 1)"
      ]
     },
     "execution_count": 10,
     "metadata": {},
     "output_type": "execute_result"
    }
   ],
   "source": [
    "P2 = E(-1 * 1807136345283977465813277102364620289631804529403213381639, 1); P2"
   ]
  },
  {
   "cell_type": "code",
   "execution_count": null,
   "id": "e8882b22",
   "metadata": {},
   "outputs": [],
   "source": []
  }
 ],
 "metadata": {
  "kernelspec": {
   "display_name": "SageMath 9.2",
   "language": "sage",
   "name": "sagemath"
  },
  "language_info": {
   "codemirror_mode": {
    "name": "ipython",
    "version": 3
   },
   "file_extension": ".py",
   "mimetype": "text/x-python",
   "name": "python",
   "nbconvert_exporter": "python",
   "pygments_lexer": "ipython3",
   "version": "3.9.7"
  }
 },
 "nbformat": 4,
 "nbformat_minor": 5
}
