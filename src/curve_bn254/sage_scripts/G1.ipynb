{
 "cells": [
  {
   "cell_type": "code",
   "execution_count": 2,
   "id": "concrete-robert",
   "metadata": {},
   "outputs": [],
   "source": [
    "q = 16798108731015832284940804142231733909889187121439069848933715426072753864723\n",
    "E = EllipticCurve(GF(q), [0,0,0,0,2])"
   ]
  },
  {
   "cell_type": "code",
   "execution_count": 5,
   "id": "medium-labor",
   "metadata": {},
   "outputs": [
    {
     "data": {
      "text/plain": [
       "(16798108731015832284940804142231733909889187121439069848933715426072753864722 : 1 : 1)"
      ]
     },
     "execution_count": 5,
     "metadata": {},
     "output_type": "execute_result"
    }
   ],
   "source": [
    "P = E(-1,1); P"
   ]
  },
  {
   "cell_type": "code",
   "execution_count": 6,
   "id": "chinese-charter",
   "metadata": {},
   "outputs": [
    {
     "data": {
      "text/plain": [
       "16798108731015832284940804142231733909759579603404752749028378864165570215949"
      ]
     },
     "execution_count": 6,
     "metadata": {},
     "output_type": "execute_result"
    }
   ],
   "source": [
    "P.order()"
   ]
  },
  {
   "cell_type": "code",
   "execution_count": 7,
   "id": "expanded-lodging",
   "metadata": {},
   "outputs": [
    {
     "data": {
      "text/plain": [
       "16798108731015832284940804142231733909759579603404752749028378864165570215949"
      ]
     },
     "execution_count": 7,
     "metadata": {},
     "output_type": "execute_result"
    }
   ],
   "source": [
    "E.order()"
   ]
  },
  {
   "cell_type": "code",
   "execution_count": null,
   "id": "emerging-export",
   "metadata": {},
   "outputs": [],
   "source": []
  }
 ],
 "metadata": {
  "kernelspec": {
   "display_name": "SageMath 9.2",
   "language": "sage",
   "name": "sagemath"
  },
  "language_info": {
   "codemirror_mode": {
    "name": "ipython",
    "version": 3
   },
   "file_extension": ".py",
   "mimetype": "text/x-python",
   "name": "python",
   "nbconvert_exporter": "python",
   "pygments_lexer": "ipython3",
   "version": "3.9.1"
  }
 },
 "nbformat": 4,
 "nbformat_minor": 5
}
