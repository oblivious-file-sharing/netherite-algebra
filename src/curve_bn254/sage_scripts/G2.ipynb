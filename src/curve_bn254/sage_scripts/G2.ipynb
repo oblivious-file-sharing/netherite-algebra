{
 "cells": [
  {
   "cell_type": "code",
   "execution_count": 1,
   "id": "presidential-cinema",
   "metadata": {},
   "outputs": [],
   "source": [
    "q = 16798108731015832284940804142231733909889187121439069848933715426072753864723"
   ]
  },
  {
   "cell_type": "code",
   "execution_count": 4,
   "id": "valid-reputation",
   "metadata": {},
   "outputs": [],
   "source": [
    "K.<a> = GF(q**2, name='a', modulus=x^2 + 1)"
   ]
  },
  {
   "cell_type": "code",
   "execution_count": 5,
   "id": "going-midnight",
   "metadata": {},
   "outputs": [
    {
     "data": {
      "text/plain": [
       "False"
      ]
     },
     "execution_count": 5,
     "metadata": {},
     "output_type": "execute_result"
    }
   ],
   "source": [
    "(a+1).is_square()"
   ]
  },
  {
   "cell_type": "code",
   "execution_count": 9,
   "id": "textile-coffee",
   "metadata": {},
   "outputs": [
    {
     "ename": "ValueError",
     "evalue": "no nth root",
     "output_type": "error",
     "traceback": [
      "\u001b[0;31m---------------------------------------------------------------------------\u001b[0m",
      "\u001b[0;31mValueError\u001b[0m                                Traceback (most recent call last)",
      "\u001b[0;32m<ipython-input-9-40652d74da59>\u001b[0m in \u001b[0;36m<module>\u001b[0;34m\u001b[0m\n\u001b[0;32m----> 1\u001b[0;31m \u001b[0;34m(\u001b[0m\u001b[0ma\u001b[0m\u001b[0;34m+\u001b[0m\u001b[0mInteger\u001b[0m\u001b[0;34m(\u001b[0m\u001b[0;36m1\u001b[0m\u001b[0;34m)\u001b[0m\u001b[0;34m)\u001b[0m\u001b[0;34m.\u001b[0m\u001b[0mnth_root\u001b[0m\u001b[0;34m(\u001b[0m\u001b[0mInteger\u001b[0m\u001b[0;34m(\u001b[0m\u001b[0;36m3\u001b[0m\u001b[0;34m)\u001b[0m\u001b[0;34m)\u001b[0m\u001b[0;34m\u001b[0m\u001b[0;34m\u001b[0m\u001b[0m\n\u001b[0m",
      "\u001b[0;32m~/miniconda3/envs/sage/lib/python3.9/site-packages/sage/rings/finite_rings/element_base.pyx\u001b[0m in \u001b[0;36msage.rings.finite_rings.element_base.FinitePolyExtElement.nth_root (build/cythonized/sage/rings/finite_rings/element_base.c:9726)\u001b[0;34m()\u001b[0m\n\u001b[1;32m    744\u001b[0m         \u001b[0;32mfrom\u001b[0m \u001b[0msage\u001b[0m\u001b[0;34m.\u001b[0m\u001b[0mrings\u001b[0m\u001b[0;34m.\u001b[0m\u001b[0minteger\u001b[0m \u001b[0;32mimport\u001b[0m \u001b[0mInteger\u001b[0m\u001b[0;34m\u001b[0m\u001b[0;34m\u001b[0m\u001b[0m\n\u001b[1;32m    745\u001b[0m         \u001b[0mn\u001b[0m \u001b[0;34m=\u001b[0m \u001b[0mInteger\u001b[0m\u001b[0;34m(\u001b[0m\u001b[0mn\u001b[0m\u001b[0;34m)\u001b[0m\u001b[0;34m\u001b[0m\u001b[0;34m\u001b[0m\u001b[0m\n\u001b[0;32m--> 746\u001b[0;31m         \u001b[0;32mreturn\u001b[0m \u001b[0mself\u001b[0m\u001b[0;34m.\u001b[0m\u001b[0m_nth_root_common\u001b[0m\u001b[0;34m(\u001b[0m\u001b[0mn\u001b[0m\u001b[0;34m,\u001b[0m \u001b[0mall\u001b[0m\u001b[0;34m,\u001b[0m \u001b[0malgorithm\u001b[0m\u001b[0;34m,\u001b[0m \u001b[0mcunningham\u001b[0m\u001b[0;34m)\u001b[0m\u001b[0;34m\u001b[0m\u001b[0;34m\u001b[0m\u001b[0m\n\u001b[0m\u001b[1;32m    747\u001b[0m \u001b[0;34m\u001b[0m\u001b[0m\n\u001b[1;32m    748\u001b[0m     \u001b[0;32mdef\u001b[0m \u001b[0mpth_power\u001b[0m\u001b[0;34m(\u001b[0m\u001b[0mself\u001b[0m\u001b[0;34m,\u001b[0m \u001b[0mint\u001b[0m \u001b[0mk\u001b[0m \u001b[0;34m=\u001b[0m \u001b[0;36m1\u001b[0m\u001b[0;34m)\u001b[0m\u001b[0;34m:\u001b[0m\u001b[0;34m\u001b[0m\u001b[0;34m\u001b[0m\u001b[0m\n",
      "\u001b[0;32m~/miniconda3/envs/sage/lib/python3.9/site-packages/sage/rings/finite_rings/element_base.pyx\u001b[0m in \u001b[0;36msage.rings.finite_rings.element_base.FiniteRingElement._nth_root_common (build/cythonized/sage/rings/finite_rings/element_base.c:3505)\u001b[0;34m()\u001b[0m\n\u001b[1;32m     70\u001b[0m         \u001b[0;32mif\u001b[0m \u001b[0mself\u001b[0m\u001b[0;34m**\u001b[0m\u001b[0mq1overn\u001b[0m \u001b[0;34m!=\u001b[0m \u001b[0;36m1\u001b[0m\u001b[0;34m:\u001b[0m\u001b[0;34m\u001b[0m\u001b[0;34m\u001b[0m\u001b[0m\n\u001b[1;32m     71\u001b[0m             \u001b[0;32mif\u001b[0m \u001b[0mall\u001b[0m\u001b[0;34m:\u001b[0m \u001b[0;32mreturn\u001b[0m \u001b[0;34m[\u001b[0m\u001b[0;34m]\u001b[0m\u001b[0;34m\u001b[0m\u001b[0;34m\u001b[0m\u001b[0m\n\u001b[0;32m---> 72\u001b[0;31m             \u001b[0;32melse\u001b[0m\u001b[0;34m:\u001b[0m \u001b[0;32mraise\u001b[0m \u001b[0mValueError\u001b[0m\u001b[0;34m(\u001b[0m\u001b[0;34m\"no nth root\"\u001b[0m\u001b[0;34m)\u001b[0m\u001b[0;34m\u001b[0m\u001b[0;34m\u001b[0m\u001b[0m\n\u001b[0m\u001b[1;32m     73\u001b[0m         \u001b[0mself\u001b[0m \u001b[0;34m=\u001b[0m \u001b[0mself\u001b[0m\u001b[0;34m**\u001b[0m\u001b[0malpha\u001b[0m\u001b[0;34m\u001b[0m\u001b[0;34m\u001b[0m\u001b[0m\n\u001b[1;32m     74\u001b[0m         \u001b[0;32mif\u001b[0m \u001b[0mcunningham\u001b[0m\u001b[0;34m:\u001b[0m\u001b[0;34m\u001b[0m\u001b[0;34m\u001b[0m\u001b[0m\n",
      "\u001b[0;31mValueError\u001b[0m: no nth root"
     ]
    }
   ],
   "source": [
    "(a+1).nth_root(3)"
   ]
  },
  {
   "cell_type": "code",
   "execution_count": 10,
   "id": "supposed-garage",
   "metadata": {},
   "outputs": [
    {
     "data": {
      "text/plain": [
       "16798108731015832284940804142231733909889187121439069848933715426072753864722*a + 1"
      ]
     },
     "execution_count": 10,
     "metadata": {},
     "output_type": "execute_result"
    }
   ],
   "source": [
    "2 / (a+1)"
   ]
  },
  {
   "cell_type": "code",
   "execution_count": 24,
   "id": "impaired-feedback",
   "metadata": {},
   "outputs": [
    {
     "name": "stdout",
     "output_type": "stream",
     "text": [
      "-4647714815446351873\n"
     ]
    }
   ],
   "source": [
    "X = -(2^62 + 2^55 + 1)\n",
    "print(X)"
   ]
  },
  {
   "cell_type": "code",
   "execution_count": 13,
   "id": "empirical-gauge",
   "metadata": {},
   "outputs": [],
   "source": [
    "cofactor = (36 * X^4) + (36 * X^3) + (30 * X^2) + 6*X + 1"
   ]
  },
  {
   "cell_type": "code",
   "execution_count": 15,
   "id": "historic-cleaner",
   "metadata": {},
   "outputs": [
    {
     "name": "stdout",
     "output_type": "stream",
     "text": [
      "16798108731015832284940804142231733910018794639473386948839051987979937513497\n",
      "12465963768561532953u64,\n",
      "14024912927073501206u64,\n",
      "13417434401994702856u64,\n",
      "2676093114170474497u64,\n"
     ]
    }
   ],
   "source": [
    "def print_repr(x):\n",
    "    a1 = x % 2^64\n",
    "    x = x - a1\n",
    "    x /= 2^64\n",
    "    a2 = x % 2^64\n",
    "    x = x - a2\n",
    "    x /= 2^64\n",
    "    a3 = x % 2^64\n",
    "    x = x - a3\n",
    "    x /= 2^64\n",
    "    a4 = x\n",
    "    print(\"{}u64,\".format(a1))\n",
    "    print(\"{}u64,\".format(a2))\n",
    "    print(\"{}u64,\".format(a3))\n",
    "    print(\"{}u64,\".format(a4))\n",
    "print(cofactor)\n",
    "print_repr(cofactor)"
   ]
  },
  {
   "cell_type": "code",
   "execution_count": 17,
   "id": "tribal-center",
   "metadata": {},
   "outputs": [],
   "source": [
    "r = 16798108731015832284940804142231733909759579603404752749028378864165570215949"
   ]
  },
  {
   "cell_type": "code",
   "execution_count": 22,
   "id": "controversial-being",
   "metadata": {},
   "outputs": [
    {
     "name": "stdout",
     "output_type": "stream",
     "text": [
      "8399054365507916140663265725831889489001708940320597534943659766172318957567\n"
     ]
    }
   ],
   "source": [
    "cofactor_inv = Integer(pow(cofactor, -1, r))\n",
    "print(cofactor_inv)"
   ]
  },
  {
   "cell_type": "code",
   "execution_count": 23,
   "id": "empirical-cherry",
   "metadata": {},
   "outputs": [],
   "source": [
    "E = EllipticCurve(K, [0,0,0,0, 2 / (a+1)])"
   ]
  },
  {
   "cell_type": "code",
   "execution_count": 32,
   "id": "manual-projection",
   "metadata": {},
   "outputs": [],
   "source": [
    "# trying to find a simple representation for a point on the curve\n",
    "G2_generator_y = (8 + 2 / (a+1)).nth_root(2)"
   ]
  },
  {
   "cell_type": "code",
   "execution_count": 30,
   "id": "optical-impression",
   "metadata": {},
   "outputs": [
    {
     "data": {
      "text/plain": [
       "282176456939030335248791854420814157247578133698464773674441028577770932557785597944356849527061469642761952671875423758140667687171305533797224392163653"
      ]
     },
     "execution_count": 30,
     "metadata": {},
     "output_type": "execute_result"
    }
   ],
   "source": [
    "E.order()"
   ]
  },
  {
   "cell_type": "code",
   "execution_count": 31,
   "id": "authentic-helen",
   "metadata": {},
   "outputs": [],
   "source": [
    "G2_generator_x = 2 "
   ]
  },
  {
   "cell_type": "code",
   "execution_count": 39,
   "id": "unauthorized-johns",
   "metadata": {},
   "outputs": [
    {
     "data": {
      "text/plain": [
       "(2 : 1899784800968751456341456997049681847817003650579065641446435441396150964253*a + 12677992579106246995460436074156621302640468313293156947618458731565204411816 : 1)"
      ]
     },
     "execution_count": 39,
     "metadata": {},
     "output_type": "execute_result"
    }
   ],
   "source": [
    "P = E(G2_generator_x, G2_generator_y)\n",
    "P"
   ]
  },
  {
   "cell_type": "code",
   "execution_count": 36,
   "id": "excellent-english",
   "metadata": {},
   "outputs": [
    {
     "data": {
      "text/plain": [
       "2^2 * 3 * 7 * 641 * 16843 * 140977 * 15698303 * 65982793 * 101148471075752777 * 1254043595354617963043866617659"
      ]
     },
     "execution_count": 36,
     "metadata": {},
     "output_type": "execute_result"
    }
   ],
   "source": [
    "factor(r - 1)"
   ]
  },
  {
   "cell_type": "code",
   "execution_count": 38,
   "id": "compound-conflict",
   "metadata": {},
   "outputs": [
    {
     "data": {
      "text/plain": [
       "(11521942832729407966702595350363131075323119081315307107095167059905158610587*a + 7285717414515624463505950114650340815598768509068365385097147664518635247506 : 7375941570617784505415859239316408318232460138208543626861107272896238928971*a + 10455464023838564346503684671246170048396943826840085838219326631636777565316 : 1)"
      ]
     },
     "execution_count": 38,
     "metadata": {},
     "output_type": "execute_result"
    }
   ],
   "source": [
    "Integer(((r - 1) / 2)) * P"
   ]
  },
  {
   "cell_type": "code",
   "execution_count": 40,
   "id": "extra-daughter",
   "metadata": {},
   "outputs": [
    {
     "data": {
      "text/plain": [
       "(4137973799053782506452215680817502099454985585500413963467241473493846231956*a + 15896361360844060578451350475547798334592778088144597831251542596120106111317 : 12707415150859774802380415181252112114908286765489174166372066505677768247487*a + 4170259398969715862702833089204612331696659874513104227429409754948486948188 : 1)"
      ]
     },
     "execution_count": 40,
     "metadata": {},
     "output_type": "execute_result"
    }
   ],
   "source": [
    "Integer(((r - 1) / 3)) * P"
   ]
  },
  {
   "cell_type": "code",
   "execution_count": 41,
   "id": "compliant-information",
   "metadata": {},
   "outputs": [
    {
     "data": {
      "text/plain": [
       "(1796136482344129804571999374358818250375882909690220131755781063279636227440*a + 6398071363093490983503125330485318625109157369168402521942041312406109483361 : 10466432724128120085857191742893756722483463947098954580085119092530350035009*a + 13244097111666712874309391549447912164390906479921541711872849432737513027366 : 1)"
      ]
     },
     "execution_count": 41,
     "metadata": {},
     "output_type": "execute_result"
    }
   ],
   "source": [
    "Integer(((r - 1) / 7)) * P"
   ]
  },
  {
   "cell_type": "code",
   "execution_count": 42,
   "id": "realistic-advertiser",
   "metadata": {},
   "outputs": [
    {
     "data": {
      "text/plain": [
       "(5347089977850249263239449980401076574078662032903441002156907312373030545689*a + 2479451353358978648091793973880919646611585314009053701861957038439149498632 : 4631046693994688284763043129686616641950493005005355582679018374984728535096*a + 6862127203354711923402933565672226840323159270636087071856643689652907020170 : 1)"
      ]
     },
     "execution_count": 42,
     "metadata": {},
     "output_type": "execute_result"
    }
   ],
   "source": [
    "Integer(((r - 1) / 641)) * P"
   ]
  },
  {
   "cell_type": "code",
   "execution_count": 43,
   "id": "wired-scholar",
   "metadata": {},
   "outputs": [
    {
     "data": {
      "text/plain": [
       "(15654779901332690002980013970618408835276384363374916251191369292473186579112*a + 12779228814471253925060033562868002357119334184781328336374618837445190207497 : 3090617403464225446561787548001498355773838111286689695417024812267040830177*a + 13720666083656320009074206061709780104178155995563746514205010063336530902100 : 1)"
      ]
     },
     "execution_count": 43,
     "metadata": {},
     "output_type": "execute_result"
    }
   ],
   "source": [
    "Integer(((r - 1) / 16843)) * P"
   ]
  },
  {
   "cell_type": "code",
   "execution_count": 44,
   "id": "measured-startup",
   "metadata": {},
   "outputs": [
    {
     "data": {
      "text/plain": [
       "(5139377409010821629526447728811732419752860722108058088339061137334896160412*a + 11330579579482357987973462162246015552912637763539378175790844885131731571578 : 14517223441105772611386420037300096514554768156541907131273243768384245615610*a + 7369702745279311123329517702669888533271128411797573681901333846567567034618 : 1)"
      ]
     },
     "execution_count": 44,
     "metadata": {},
     "output_type": "execute_result"
    }
   ],
   "source": [
    "Integer(((r - 1) / 140977)) * P"
   ]
  },
  {
   "cell_type": "code",
   "execution_count": 45,
   "id": "pressed-cooperation",
   "metadata": {},
   "outputs": [
    {
     "data": {
      "text/plain": [
       "(14336327752336429291555735652179121572375611035392691825695305223688928000497*a + 2101484960045195726895905779301016616596664678465338909129532547948006874436 : 3028582135801284152815726812331409271276799395569351795892139427169077671992*a + 6993464790475874773215858400856586277257860627185535084940999441717717507560 : 1)"
      ]
     },
     "execution_count": 45,
     "metadata": {},
     "output_type": "execute_result"
    }
   ],
   "source": [
    "Integer(((r - 1) / 15698303)) * P"
   ]
  },
  {
   "cell_type": "code",
   "execution_count": 46,
   "id": "postal-corps",
   "metadata": {},
   "outputs": [
    {
     "data": {
      "text/plain": [
       "(5251017466118247599274778421686018828679965944871035910715528122850666476045*a + 3725202335001018951042974545843365571167880656767315546934954465520690948666 : 7159165694292591840131314043465280828762623990757174155089162173569869645158*a + 8586210997006945818130015921607140598570381318089355730625809866023815606486 : 1)"
      ]
     },
     "execution_count": 46,
     "metadata": {},
     "output_type": "execute_result"
    }
   ],
   "source": [
    "Integer(((r - 1) / 65982793)) * P"
   ]
  },
  {
   "cell_type": "code",
   "execution_count": 47,
   "id": "flexible-checkout",
   "metadata": {},
   "outputs": [
    {
     "data": {
      "text/plain": [
       "(9862599993106133689024654965304097004077979620763608228672941914210090454364*a + 2388116008975397908468242752361590245392021081245284434328177621027518912107 : 13243633452281317748224241011110049526816254483465133929307260683444924025007*a + 13976586616125752684123057587799008441999114907982968303573985051705185956540 : 1)"
      ]
     },
     "execution_count": 47,
     "metadata": {},
     "output_type": "execute_result"
    }
   ],
   "source": [
    "Integer(((r - 1) / 101148471075752777)) * P"
   ]
  },
  {
   "cell_type": "code",
   "execution_count": 48,
   "id": "severe-means",
   "metadata": {},
   "outputs": [
    {
     "data": {
      "text/plain": [
       "(15264696267811128947242948817752781784039297709980155765985636410094967518521*a + 4339707370342457203228304561656679375451463873441788012991293497201568922857 : 3232084859425803392691705403006674181970039370194198268286412515708895329253*a + 1880466293769419217234045693472701482344459873234431956017995077510432771958 : 1)"
      ]
     },
     "execution_count": 48,
     "metadata": {},
     "output_type": "execute_result"
    }
   ],
   "source": [
    "Integer(((r - 1) / 1254043595354617963043866617659)) * P"
   ]
  },
  {
   "cell_type": "code",
   "execution_count": 50,
   "id": "attended-dependence",
   "metadata": {},
   "outputs": [
    {
     "data": {
      "text/plain": [
       "(8248215020728169092002938899654861401812046559379594049775681537029184950058*a + 8886801309366281947631528297733805085670278879156266883619794896656174045884 : 16154330957640146785077815312904962054688016312427968173676660639951016655442*a + 1016076014903464948371650876654268362159686929323241863055492613461760981720 : 1)"
      ]
     },
     "execution_count": 50,
     "metadata": {},
     "output_type": "execute_result"
    }
   ],
   "source": [
    "cofactor * P"
   ]
  },
  {
   "cell_type": "code",
   "execution_count": null,
   "id": "minor-missile",
   "metadata": {},
   "outputs": [],
   "source": []
  }
 ],
 "metadata": {
  "kernelspec": {
   "display_name": "SageMath 9.2",
   "language": "sage",
   "name": "sagemath"
  },
  "language_info": {
   "codemirror_mode": {
    "name": "ipython",
    "version": 3
   },
   "file_extension": ".py",
   "mimetype": "text/x-python",
   "name": "python",
   "nbconvert_exporter": "python",
   "pygments_lexer": "ipython3",
   "version": "3.9.1"
  }
 },
 "nbformat": 4,
 "nbformat_minor": 5
}
