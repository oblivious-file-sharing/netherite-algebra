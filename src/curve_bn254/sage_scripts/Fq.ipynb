{
 "cells": [
  {
   "cell_type": "code",
   "execution_count": 1,
   "id": "coated-wrapping",
   "metadata": {},
   "outputs": [],
   "source": [
    "z = -(2^62 + 2^55 + 1)"
   ]
  },
  {
   "cell_type": "code",
   "execution_count": 2,
   "id": "twenty-philippines",
   "metadata": {},
   "outputs": [],
   "source": [
    "p = 36 * z^4 + 36 * z^3 + 24 * z^2 + 6 * z + 1 "
   ]
  },
  {
   "cell_type": "code",
   "execution_count": 3,
   "id": "different-prospect",
   "metadata": {},
   "outputs": [
    {
     "name": "stdout",
     "output_type": "stream",
     "text": [
      "16798108731015832284940804142231733909889187121439069848933715426072753864723\n",
      "12033618204333965331u64,\n",
      "6998875295910461459u64,\n",
      "13417434401994702856u64,\n",
      "2676093114170474497u64,\n"
     ]
    }
   ],
   "source": [
    "def print_repr(x):\n",
    "    a1 = x % 2^64\n",
    "    x = x - a1\n",
    "    x /= 2^64\n",
    "    a2 = x % 2^64\n",
    "    x = x - a2\n",
    "    x /= 2^64\n",
    "    a3 = x % 2^64\n",
    "    x = x - a3\n",
    "    x /= 2^64\n",
    "    a4 = x\n",
    "    print(\"{}u64,\".format(a1))\n",
    "    print(\"{}u64,\".format(a2))\n",
    "    print(\"{}u64,\".format(a3))\n",
    "    print(\"{}u64,\".format(a4))\n",
    "print(p)\n",
    "print_repr(p)"
   ]
  },
  {
   "cell_type": "code",
   "execution_count": 4,
   "id": "homeless-blind",
   "metadata": {},
   "outputs": [
    {
     "name": "stdout",
     "output_type": "stream",
     "text": [
      "15003436851221201713926160155297504393934861937006144945855291451476606451598\n",
      "1585267068834414478u64,\n",
      "13346980445665886090u64,\n",
      "11729113956579540941u64,\n",
      "2390185388686704629u64,\n"
     ]
    }
   ],
   "source": [
    "r = 2^256 % p\n",
    "print(r)\n",
    "print_repr(r)"
   ]
  },
  {
   "cell_type": "code",
   "execution_count": 5,
   "id": "superb-senate",
   "metadata": {},
   "outputs": [
    {
     "name": "stdout",
     "output_type": "stream",
     "text": [
      "12230467316513068056352497508934426021303424122708754667510789219591570605885\n",
      "12963759361560168253u64,\n",
      "6192378494175724529u64,\n",
      "2890811900596491599u64,\n",
      "1948425855130679869u64,\n"
     ]
    }
   ],
   "source": [
    "r2 = r * r % p\n",
    "print(r2)\n",
    "print_repr(r2)"
   ]
  },
  {
   "cell_type": "code",
   "execution_count": 6,
   "id": "tribal-signal",
   "metadata": {},
   "outputs": [
    {
     "name": "stdout",
     "output_type": "stream",
     "text": [
      "595423277050246629\n"
     ]
    }
   ],
   "source": [
    "inv = pow(-p, -1, 2^64) \n",
    "print(inv)"
   ]
  },
  {
   "cell_type": "code",
   "execution_count": 7,
   "id": "internal-desperate",
   "metadata": {},
   "outputs": [
    {
     "data": {
      "text/plain": [
       "2 * 3^3 * 7 * 641 * 71693 * 1033337 * 15698303 * 65982793 * 5994341377 * 22009001472962227 * 6848045079628454069"
      ]
     },
     "execution_count": 7,
     "metadata": {},
     "output_type": "execute_result"
    }
   ],
   "source": [
    "factor(p - 1)"
   ]
  },
  {
   "cell_type": "code",
   "execution_count": 8,
   "id": "accurate-diving",
   "metadata": {},
   "outputs": [
    {
     "name": "stdout",
     "output_type": "stream",
     "text": [
      "16798108731015832284940804142231733909889187121439069848933715426072753864722\n",
      "16798108731015832283133667796947756444075910019074449559301910896669540483083\n",
      "5058993652618636610753082198083461896929419961886957311101666958794607667612\n",
      "2956659568852449891205682338116902825720791810567821073035616021835506621117\n",
      "6359626240295747778299184366709399805551098749419793270207277600278918281955\n",
      "5972638675855759348255082824588049481169267321360810166045491030921960082420\n",
      "6596940372837853428840327228909179259423015710407908210636032035405704421874\n",
      "16576427878512117491425970825110076356639709988676984429972899511608671101888\n",
      "14044322781828964621440395983538285582844550440597429608539443799680680782926\n",
      "5480227163719061306332404766856887000430478276497534938104119993888544374541\n",
      "11051662775678759642802452931825035225731767626736658979504045894548108142781\n"
     ]
    }
   ],
   "source": [
    "gen = 3\n",
    "print(pow(gen, (p - 1) / 2, p))\n",
    "print(pow(gen, (p - 1) / 3, p))\n",
    "print(pow(gen, (p - 1) / 7, p))\n",
    "print(pow(gen, (p - 1) / 641, p))\n",
    "print(pow(gen, (p - 1) / 71693, p))\n",
    "print(pow(gen, (p - 1) / 1033337, p))\n",
    "print(pow(gen, (p - 1) / 15698303, p))\n",
    "print(pow(gen, (p - 1) / 65982793, p))\n",
    "print(pow(gen, (p - 1) / 5994341377, p))\n",
    "print(pow(gen, (p - 1) / 22009001472962227, p))\n",
    "print(pow(gen, (p - 1) / 6848045079628454069, p))"
   ]
  },
  {
   "cell_type": "code",
   "execution_count": 9,
   "id": "numerical-brief",
   "metadata": {},
   "outputs": [
    {
     "name": "stdout",
     "output_type": "stream",
     "text": [
      "11414093091631940571896872181429045362026211568140295139698443502284311625348\n",
      "17582052945254416004u64,\n",
      "7596446671467183734u64,\n",
      "8352473065749217112u64,\n",
      "1818369937719164893u64,\n"
     ]
    }
   ],
   "source": [
    "gen_m = gen * r % p\n",
    "print(gen_m)\n",
    "print_repr(gen_m)"
   ]
  },
  {
   "cell_type": "code",
   "execution_count": 10,
   "id": "biblical-checklist",
   "metadata": {},
   "outputs": [
    {
     "name": "stdout",
     "output_type": "stream",
     "text": [
      "8399054365507916142470402071115866954944593560719534924466857713036376932361\n",
      "15240181139021758473u64,\n",
      "3499437647955230729u64,\n",
      "15932089237852127236u64,\n",
      "1338046557085237248u64,\n"
     ]
    }
   ],
   "source": [
    "p_minus_1_div_2 = (p - 1) / 2\n",
    "print(p_minus_1_div_2)\n",
    "print_repr(p_minus_1_div_2)"
   ]
  },
  {
   "cell_type": "code",
   "execution_count": 11,
   "id": "dangerous-colony",
   "metadata": {},
   "outputs": [],
   "source": [
    "t = p_minus_1_div_2 # due to 2-arity being 1"
   ]
  },
  {
   "cell_type": "code",
   "execution_count": 12,
   "id": "compliant-coordinate",
   "metadata": {},
   "outputs": [
    {
     "name": "stdout",
     "output_type": "stream",
     "text": [
      "4199527182753958071235201035557933477472296780359767462233428856518188466180\n",
      "16843462606365655044u64,\n",
      "1749718823977615364u64,\n",
      "7966044618926063618u64,\n",
      "669023278542618624u64,\n"
     ]
    }
   ],
   "source": [
    "t_minus_1_div_2 = (t - 1) / 2\n",
    "print(t_minus_1_div_2)\n",
    "print_repr(t_minus_1_div_2)"
   ]
  },
  {
   "cell_type": "code",
   "execution_count": 13,
   "id": "higher-ordinance",
   "metadata": {},
   "outputs": [
    {
     "name": "stdout",
     "output_type": "stream",
     "text": [
      "16798108731015832284940804142231733909889187121439069848933715426072753864722\n"
     ]
    }
   ],
   "source": [
    "two_adic_root_of_unity = pow(gen, t, p)\n",
    "print(two_adic_root_of_unity)"
   ]
  },
  {
   "cell_type": "code",
   "execution_count": 14,
   "id": "invalid-faith",
   "metadata": {},
   "outputs": [
    {
     "name": "stdout",
     "output_type": "stream",
     "text": [
      "1794671879794630571014643986934229515954325184432924903078423974596147413125\n",
      "10448351135499550853u64,\n",
      "12098638923954126985u64,\n",
      "1688320445415161914u64,\n",
      "285907725483769868u64,\n"
     ]
    }
   ],
   "source": [
    "two_adic_root_of_unity_m = Integer(two_adic_root_of_unity * r % p)\n",
    "print(two_adic_root_of_unity_m)\n",
    "print_repr(two_adic_root_of_unity_m)"
   ]
  }
 ],
 "metadata": {
  "kernelspec": {
   "display_name": "SageMath 9.2",
   "language": "sage",
   "name": "sagemath"
  },
  "language_info": {
   "codemirror_mode": {
    "name": "ipython",
    "version": 3
   },
   "file_extension": ".py",
   "mimetype": "text/x-python",
   "name": "python",
   "nbconvert_exporter": "python",
   "pygments_lexer": "ipython3",
   "version": "3.9.1"
  }
 },
 "nbformat": 4,
 "nbformat_minor": 5
}
