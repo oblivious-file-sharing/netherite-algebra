{
 "cells": [
  {
   "cell_type": "code",
   "execution_count": 1,
   "id": "positive-albania",
   "metadata": {},
   "outputs": [
    {
     "data": {
      "text/plain": [
       "102211695604069718983520304652693874995639508460729604902280098199792736381528662976886082950231100101353700265360419596271313339023463"
      ]
     },
     "execution_count": 1,
     "metadata": {},
     "output_type": "execute_result"
    }
   ],
   "source": [
    "q = 102211695604069718983520304652693874995639508460729604902280098199792736381528662976886082950231100101353700265360419596271313339023463\n",
    "q"
   ]
  },
  {
   "cell_type": "code",
   "execution_count": 2,
   "id": "gross-competition",
   "metadata": {},
   "outputs": [
    {
     "data": {
      "text/plain": [
       "102211695604069718983520304652693874995639508460729604902280098199792736381528662976886082950231100101353700265360419596271313339023462"
      ]
     },
     "execution_count": 2,
     "metadata": {},
     "output_type": "execute_result"
    }
   ],
   "source": [
    "minus_one = -1 + q\n",
    "minus_one"
   ]
  },
  {
   "cell_type": "code",
   "execution_count": 3,
   "id": "planned-activity",
   "metadata": {},
   "outputs": [
    {
     "data": {
      "text/plain": [
       "102211695604069718983520304652693874995639508460729604902280098199792736381528662976886082950231100101353700265360419596271313339023460"
      ]
     },
     "execution_count": 3,
     "metadata": {},
     "output_type": "execute_result"
    }
   ],
   "source": [
    "minus_3 = -3 + q\n",
    "minus_3"
   ]
  },
  {
   "cell_type": "code",
   "execution_count": 4,
   "id": "seven-verification",
   "metadata": {},
   "outputs": [
    {
     "data": {
      "text/plain": [
       "102211695604069718983520304652693874995639508460729604902280098199792736381528662976886082950231100101353700265360419596271313339022431"
      ]
     },
     "execution_count": 4,
     "metadata": {},
     "output_type": "execute_result"
    }
   ],
   "source": [
    "minus_4_times_b_plus_1 = -4 * (257 + 1) + q\n",
    "minus_4_times_b_plus_1"
   ]
  },
  {
   "cell_type": "code",
   "execution_count": 5,
   "id": "proof-graphic",
   "metadata": {},
   "outputs": [
    {
     "data": {
      "text/plain": [
       "51105847802034859491760152326346937497819754230364802451140049099896368190764331488443041475115550050676850132680209798135656669511732"
      ]
     },
     "execution_count": 5,
     "metadata": {},
     "output_type": "execute_result"
    }
   ],
   "source": [
    "inv_2 = pow(2, -1, q)\n",
    "inv_2"
   ]
  },
  {
   "cell_type": "code",
   "execution_count": 6,
   "id": "african-crisis",
   "metadata": {},
   "outputs": [
    {
     "data": {
      "text/plain": [
       "78741026092188429277422585721872241941339850196332811688266123445560154836806169644207872181933178973"
      ]
     },
     "execution_count": 6,
     "metadata": {},
     "output_type": "execute_result"
    }
   ],
   "source": [
    "sqrt_minus_3 = mod(-3 + q, q).sqrt()\n",
    "sqrt_minus_3"
   ]
  },
  {
   "cell_type": "code",
   "execution_count": 7,
   "id": "approximate-formula",
   "metadata": {},
   "outputs": [
    {
     "data": {
      "text/plain": [
       "102211695604069718983520304652693796254613416272300327479694376327550795041678466644074394684107654541198863459190775388399131405844490"
      ]
     },
     "execution_count": 7,
     "metadata": {},
     "output_type": "execute_result"
    }
   ],
   "source": [
    "minus_sqrt_minus_3 = -mod(-3 + q, q).sqrt()\n",
    "minus_sqrt_minus_3"
   ]
  },
  {
   "cell_type": "code",
   "execution_count": 8,
   "id": "paperback-proposition",
   "metadata": {},
   "outputs": [
    {
     "data": {
      "text/plain": [
       "51105847802034859491760152326346937497819754230364802451140049099896368190764331488443041475115550050676850132680209798135656669511731"
      ]
     },
     "execution_count": 8,
     "metadata": {},
     "output_type": "execute_result"
    }
   ],
   "source": [
    "q_minus_1_div_2 = (q - 1) / 2\n",
    "q_minus_1_div_2"
   ]
  },
  {
   "cell_type": "code",
   "execution_count": 9,
   "id": "global-slide",
   "metadata": {},
   "outputs": [
    {
     "data": {
      "text/plain": [
       "39370513046094214638711292860936120970669925098166405844133061722780077418403084822103936090966589486"
      ]
     },
     "execution_count": 9,
     "metadata": {},
     "output_type": "execute_result"
    }
   ],
   "source": [
    "sqrt_minus_3_minus_1_div_2 = (sqrt_minus_3 - 1) / 2\n",
    "sqrt_minus_3_minus_1_div_2"
   ]
  },
  {
   "cell_type": "code",
   "execution_count": 10,
   "id": "funny-reminder",
   "metadata": {},
   "outputs": [
    {
     "data": {
      "text/plain": [
       "51105847802034859491760152326346898127306708136150163739847188163775397520839233322037197342053827270599431729595387694199565702922245"
      ]
     },
     "execution_count": 10,
     "metadata": {},
     "output_type": "execute_result"
    }
   ],
   "source": [
    "minus_sqrt_minus_3_div_2 = (-sqrt_minus_3 + q) / 2\n",
    "minus_sqrt_minus_3_div_2"
   ]
  },
  {
   "cell_type": "code",
   "execution_count": 11,
   "id": "affiliated-window",
   "metadata": {},
   "outputs": [
    {
     "data": {
      "text/plain": [
       "7"
      ]
     },
     "execution_count": 11,
     "metadata": {},
     "output_type": "execute_result"
    }
   ],
   "source": [
    "q % 8 "
   ]
  },
  {
   "cell_type": "code",
   "execution_count": 12,
   "id": "approximate-patrol",
   "metadata": {},
   "outputs": [
    {
     "data": {
      "text/plain": [
       "25552923901017429745880076163173468748909877115182401225570024549948184095382165744221520737557775025338425066340104899067828334755866"
      ]
     },
     "execution_count": 12,
     "metadata": {},
     "output_type": "execute_result"
    }
   ],
   "source": [
    "(q + 1) / 4"
   ]
  },
  {
   "cell_type": "code",
   "execution_count": 13,
   "id": "satellite-confidence",
   "metadata": {},
   "outputs": [
    {
     "name": "stdout",
     "output_type": "stream",
     "text": [
      "True\n",
      "False\n",
      "False\n",
      "(36716321155346290056326261881547168995119143630874288596213978910008386805926472362186816803935134015, 48674267463598597561434421411169385221111256267026887203971795345888926403911609875517263053966874364761655980041561930937695329940019)\n"
     ]
    }
   ],
   "source": [
    "# example point\n",
    "t = 3\n",
    "u = (1 + 257 + t * t) / minus_sqrt_minus_3 / t\n",
    "v = sqrt_minus_3_minus_1_div_2 + minus_sqrt_minus_3 * t * t / (1 + 257 + t * t)\n",
    "x1 = v\n",
    "x2 = -1 - v\n",
    "x3 = 1 + u * u\n",
    "\n",
    "print(mod(x1^3 + 257, q).is_square())\n",
    "print(mod(x2^3 + 257, q).is_square())\n",
    "print(mod(x3^3 + 257, q).is_square())\n",
    "\n",
    "print(\"(\" + str(x1) + \", \" + str((q - pow(x1^3 + 257, (q + 1) / 4, q)) % q) + \")\")"
   ]
  },
  {
   "cell_type": "code",
   "execution_count": 14,
   "id": "collective-agenda",
   "metadata": {},
   "outputs": [
    {
     "name": "stdout",
     "output_type": "stream",
     "text": [
      "False\n",
      "True\n",
      "False\n",
      "(31334972374970278812466078798636043693319567722267679721381955847596039977834065451781812728534582101222538572057475536256409877968303, 26562368505820453331331139235045952220077135576631966471336165996466766241424839991915013754701621604012397377681212063456304981999664)\n"
     ]
    }
   ],
   "source": [
    "# example point\n",
    "t = 4\n",
    "u = (1 + 257 + t * t) / minus_sqrt_minus_3 / t\n",
    "v = sqrt_minus_3_minus_1_div_2 + minus_sqrt_minus_3 * t * t / (1 + 257 + t * t)\n",
    "x1 = v\n",
    "x2 = -1 - v\n",
    "x3 = 1 + u * u\n",
    "\n",
    "print(mod(x1^3 + 257, q).is_square())\n",
    "print(mod(x2^3 + 257, q).is_square())\n",
    "print(mod(x3^3 + 257, q).is_square())\n",
    "\n",
    "print(\"(\" + str(x2) + \", \" + str((q - pow((x2^3 + 257) % q, (q + 1) / 4, q)) % q) + \")\")"
   ]
  },
  {
   "cell_type": "code",
   "execution_count": 15,
   "id": "palestinian-albuquerque",
   "metadata": {},
   "outputs": [
    {
     "name": "stdout",
     "output_type": "stream",
     "text": [
      "False\n",
      "False\n",
      "True\n",
      "(34070565201356572994506768217564624998546502820243201634093366066597578793842887658962027650077033367117900088453473198757104446318795, 73860803538922718841691690520324796530042249436798270933990858732782956505671392697658857721094746164733733326003807537837075468843619)\n"
     ]
    }
   ],
   "source": [
    "# example point\n",
    "t = 1\n",
    "u = (1 + 257 + t * t) / minus_sqrt_minus_3 / t\n",
    "v = sqrt_minus_3_minus_1_div_2 + minus_sqrt_minus_3 * t * t / (1 + 257 + t * t)\n",
    "x1 = v\n",
    "x2 = -1 - v\n",
    "x3 = 1 + u * u\n",
    "\n",
    "print(mod(x1^3 + 257, q).is_square())\n",
    "print(mod(x2^3 + 257, q).is_square())\n",
    "print(mod(x3^3 + 257, q).is_square())\n",
    "\n",
    "print(\"(\" + str(x3) + \", \" + str(pow(x3^3 + 257, (q + 1) / 4, q)) + \")\")"
   ]
  },
  {
   "cell_type": "code",
   "execution_count": null,
   "id": "excessive-reservoir",
   "metadata": {},
   "outputs": [],
   "source": []
  }
 ],
 "metadata": {
  "kernelspec": {
   "display_name": "SageMath 9.2",
   "language": "sage",
   "name": "sagemath"
  },
  "language_info": {
   "codemirror_mode": {
    "name": "ipython",
    "version": 3
   },
   "file_extension": ".py",
   "mimetype": "text/x-python",
   "name": "python",
   "nbconvert_exporter": "python",
   "pygments_lexer": "ipython3",
   "version": "3.9.1"
  }
 },
 "nbformat": 4,
 "nbformat_minor": 5
}
