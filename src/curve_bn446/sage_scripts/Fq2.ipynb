{
 "cells": [
  {
   "cell_type": "code",
   "execution_count": 1,
   "id": "secondary-philadelphia",
   "metadata": {},
   "outputs": [],
   "source": [
    "q = 102211695604069718983520304652693874995639508460729604902280098199792736381528662976886082950231100101353700265360419596271313339023463"
   ]
  },
  {
   "cell_type": "code",
   "execution_count": 2,
   "id": "pressing-resistance",
   "metadata": {},
   "outputs": [
    {
     "data": {
      "text/plain": [
       "-1"
      ]
     },
     "execution_count": 2,
     "metadata": {},
     "output_type": "execute_result"
    }
   ],
   "source": [
    "kronecker(-1, q)"
   ]
  },
  {
   "cell_type": "code",
   "execution_count": 3,
   "id": "consistent-ability",
   "metadata": {},
   "outputs": [
    {
     "data": {
      "text/plain": [
       "False"
      ]
     },
     "execution_count": 3,
     "metadata": {},
     "output_type": "execute_result"
    }
   ],
   "source": [
    "K.<a> = GF(q**2, name='a', modulus=x^2 + 1)\n",
    "(a+2).is_square()"
   ]
  },
  {
   "cell_type": "code",
   "execution_count": 4,
   "id": "revised-safety",
   "metadata": {},
   "outputs": [
    {
     "data": {
      "text/plain": [
       "51105847802034859491760152326346937497819754230364802451140049099896368190764331488443041475115550050676850132680209798135656669511731"
      ]
     },
     "execution_count": 4,
     "metadata": {},
     "output_type": "execute_result"
    }
   ],
   "source": [
    "(q - 1) / 2"
   ]
  },
  {
   "cell_type": "code",
   "execution_count": null,
   "id": "native-termination",
   "metadata": {},
   "outputs": [],
   "source": []
  }
 ],
 "metadata": {
  "kernelspec": {
   "display_name": "SageMath 9.2",
   "language": "sage",
   "name": "sagemath"
  },
  "language_info": {
   "codemirror_mode": {
    "name": "ipython",
    "version": 3
   },
   "file_extension": ".py",
   "mimetype": "text/x-python",
   "name": "python",
   "nbconvert_exporter": "python",
   "pygments_lexer": "ipython3",
   "version": "3.9.1"
  }
 },
 "nbformat": 4,
 "nbformat_minor": 5
}
