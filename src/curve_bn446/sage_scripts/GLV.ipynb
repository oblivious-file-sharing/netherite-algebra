{
 "cells": [
  {
   "cell_type": "code",
   "execution_count": 1,
   "id": "2d6f4598",
   "metadata": {},
   "outputs": [],
   "source": [
    "q = 102211695604069718983520304652693874995639508460729604902280098199792736381528662976886082950231100101353700265360419596271313339023463"
   ]
  },
  {
   "cell_type": "code",
   "execution_count": 2,
   "id": "b66e33af",
   "metadata": {},
   "outputs": [
    {
     "data": {
      "text/plain": [
       "[1,\n",
       " 39370513046094214638711292860936120970669925098166405844133061722780077418403084822103936090966589486,\n",
       " 102211695604069718983520304652693835625126462366514966190987237263671765711603564810480238817169377321276281862275597492335222372433976]"
      ]
     },
     "execution_count": 2,
     "metadata": {},
     "output_type": "execute_result"
    }
   ],
   "source": [
    "mod(1, q).nth_root(3, all = True)"
   ]
  },
  {
   "cell_type": "code",
   "execution_count": 3,
   "id": "87ab5c0d",
   "metadata": {},
   "outputs": [],
   "source": [
    "n = 102211695604069718983520304652693874995639508460729604902280098199782626401528481486963081749137698194804284966854672709980015705456737\n",
    "sqrt_minus_3 = mod(n - 3, n).sqrt()"
   ]
  },
  {
   "cell_type": "code",
   "execution_count": 4,
   "id": "55213063",
   "metadata": {},
   "outputs": [
    {
     "data": {
      "text/plain": [
       "78741026092188429277422585721872211611399849651863042684662843239824929700335047920663405975411097661"
      ]
     },
     "execution_count": 4,
     "metadata": {},
     "output_type": "execute_result"
    }
   ],
   "source": [
    "lambda_1 = mod(-1 + sqrt_minus_3, n) * inverse_mod(2, n)\n",
    "lambda_1"
   ]
  },
  {
   "cell_type": "code",
   "execution_count": 5,
   "id": "b7bedd88",
   "metadata": {},
   "outputs": [
    {
     "data": {
      "text/plain": [
       "102211695604069718983520304652693796254613416272300327479694376327571015001678829623920397086294458369874584631806752046574040294359075"
      ]
     },
     "execution_count": 5,
     "metadata": {},
     "output_type": "execute_result"
    }
   ],
   "source": [
    "lambda_2 = mod(-1 - sqrt_minus_3, n) * inverse_mod(2, n)\n",
    "lambda_2"
   ]
  },
  {
   "cell_type": "code",
   "execution_count": 6,
   "id": "9b0f2cee",
   "metadata": {},
   "outputs": [
    {
     "data": {
      "text/plain": [
       "(102211695604069718983520304652693874995639508460729604902280098199792736381528662976886082950231100101353700265360419596271313339023462 : 16 : 1)"
      ]
     },
     "execution_count": 6,
     "metadata": {},
     "output_type": "execute_result"
    }
   ],
   "source": [
    "E = EllipticCurve(GF(q), [0,0,0,0,257])\n",
    "P = E(-1,16); P"
   ]
  },
  {
   "cell_type": "code",
   "execution_count": 7,
   "id": "53c9931b",
   "metadata": {},
   "outputs": [
    {
     "data": {
      "text/plain": [
       "(102211695604069718983520304652693835625126462366514966190987237263671765711603564810480238817169377321276281862275597492335222372433977 : 16 : 1)"
      ]
     },
     "execution_count": 7,
     "metadata": {},
     "output_type": "execute_result"
    }
   ],
   "source": [
    "Integer(lambda_1) * P"
   ]
  },
  {
   "cell_type": "code",
   "execution_count": 8,
   "id": "7e3121fb",
   "metadata": {},
   "outputs": [
    {
     "data": {
      "text/plain": [
       "(39370513046094214638711292860936120970669925098166405844133061722780077418403084822103936090966589487 : 16 : 1)"
      ]
     },
     "execution_count": 8,
     "metadata": {},
     "output_type": "execute_result"
    }
   ],
   "source": [
    "Integer(lambda_2) * P"
   ]
  },
  {
   "cell_type": "code",
   "execution_count": 9,
   "id": "ce0380db",
   "metadata": {},
   "outputs": [
    {
     "data": {
      "text/plain": [
       "(102211695604069718983520304652693835625126462366514966190987237263671765711603564810480238817169377321276281862275597492335222372433977 : 16 : 1)"
      ]
     },
     "execution_count": 9,
     "metadata": {},
     "output_type": "execute_result"
    }
   ],
   "source": [
    "P1 = E(-1 * 39370513046094214638711292860936120970669925098166405844133061722780077418403084822103936090966589486, 16); P1"
   ]
  },
  {
   "cell_type": "code",
   "execution_count": 10,
   "id": "eb370435",
   "metadata": {},
   "outputs": [
    {
     "data": {
      "text/plain": [
       "(39370513046094214638711292860936120970669925098166405844133061722780077418403084822103936090966589487 : 16 : 1)"
      ]
     },
     "execution_count": 10,
     "metadata": {},
     "output_type": "execute_result"
    }
   ],
   "source": [
    "P2 = E(-1 * 102211695604069718983520304652693835625126462366514966190987237263671765711603564810480238817169377321276281862275597492335222372433976, 16); P2"
   ]
  },
  {
   "cell_type": "code",
   "execution_count": null,
   "id": "846a3534",
   "metadata": {},
   "outputs": [],
   "source": []
  }
 ],
 "metadata": {
  "kernelspec": {
   "display_name": "SageMath 9.2",
   "language": "sage",
   "name": "sagemath"
  },
  "language_info": {
   "codemirror_mode": {
    "name": "ipython",
    "version": 3
   },
   "file_extension": ".py",
   "mimetype": "text/x-python",
   "name": "python",
   "nbconvert_exporter": "python",
   "pygments_lexer": "ipython3",
   "version": "3.9.7"
  }
 },
 "nbformat": 4,
 "nbformat_minor": 5
}
