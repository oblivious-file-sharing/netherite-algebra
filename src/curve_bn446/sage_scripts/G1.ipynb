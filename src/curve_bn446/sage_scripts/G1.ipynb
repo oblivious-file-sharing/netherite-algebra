{
 "cells": [
  {
   "cell_type": "code",
   "execution_count": 1,
   "id": "concrete-robert",
   "metadata": {},
   "outputs": [],
   "source": [
    "q = 102211695604069718983520304652693874995639508460729604902280098199792736381528662976886082950231100101353700265360419596271313339023463\n",
    "E = EllipticCurve(GF(q), [0,0,0,0,257])"
   ]
  },
  {
   "cell_type": "code",
   "execution_count": 2,
   "id": "medium-labor",
   "metadata": {},
   "outputs": [
    {
     "data": {
      "text/plain": [
       "(102211695604069718983520304652693874995639508460729604902280098199792736381528662976886082950231100101353700265360419596271313339023462 : 16 : 1)"
      ]
     },
     "execution_count": 2,
     "metadata": {},
     "output_type": "execute_result"
    }
   ],
   "source": [
    "P = E(-1,16); P"
   ]
  },
  {
   "cell_type": "code",
   "execution_count": 3,
   "id": "chinese-charter",
   "metadata": {},
   "outputs": [
    {
     "data": {
      "text/plain": [
       "102211695604069718983520304652693874995639508460729604902280098199782626401528481486963081749137698194804284966854672709980015705456737"
      ]
     },
     "execution_count": 3,
     "metadata": {},
     "output_type": "execute_result"
    }
   ],
   "source": [
    "P.order()"
   ]
  },
  {
   "cell_type": "code",
   "execution_count": 4,
   "id": "expanded-lodging",
   "metadata": {},
   "outputs": [
    {
     "data": {
      "text/plain": [
       "102211695604069718983520304652693874995639508460729604902280098199782626401528481486963081749137698194804284966854672709980015705456737"
      ]
     },
     "execution_count": 4,
     "metadata": {},
     "output_type": "execute_result"
    }
   ],
   "source": [
    "E.order()"
   ]
  },
  {
   "cell_type": "code",
   "execution_count": null,
   "id": "emerging-export",
   "metadata": {},
   "outputs": [],
   "source": []
  }
 ],
 "metadata": {
  "kernelspec": {
   "display_name": "SageMath 9.2",
   "language": "sage",
   "name": "sagemath"
  },
  "language_info": {
   "codemirror_mode": {
    "name": "ipython",
    "version": 3
   },
   "file_extension": ".py",
   "mimetype": "text/x-python",
   "name": "python",
   "nbconvert_exporter": "python",
   "pygments_lexer": "ipython3",
   "version": "3.9.1"
  }
 },
 "nbformat": 4,
 "nbformat_minor": 5
}
