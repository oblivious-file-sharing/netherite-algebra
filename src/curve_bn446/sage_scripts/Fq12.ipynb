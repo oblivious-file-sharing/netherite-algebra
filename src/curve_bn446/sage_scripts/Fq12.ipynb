{
 "cells": [
  {
   "cell_type": "code",
   "execution_count": 1,
   "id": "affiliated-antigua",
   "metadata": {},
   "outputs": [],
   "source": [
    "q = 102211695604069718983520304652693874995639508460729604902280098199792736381528662976886082950231100101353700265360419596271313339023463\n",
    "F = GF(q)\n",
    "K2.<x> = PolynomialRing(F)\n",
    "K.<a> = GF(q**2, name='a', modulus=x ^ 2 + 1)\n",
    "F2.<u> = F.extension(x ^ 2 + 1)\n",
    "K6.<y> = PolynomialRing(F2)\n",
    "F6.<v> = F2.extension(y ^ 3 - (u + 2))\n",
    "\n",
    "# towering is extermely slow in sage, be careful"
   ]
  },
  {
   "cell_type": "code",
   "execution_count": 2,
   "id": "reliable-tongue",
   "metadata": {},
   "outputs": [
    {
     "data": {
      "text/plain": [
       "4009550277366999971615275491476999816010431859447510264574734675803409291533929950126678389415837631833039644648333366259536308645791*u + 4168371018497450687771173571863327356925364200426201634254083132826677282618873132918903515991063109073612322950197944488772930972598"
      ]
     },
     "execution_count": 2,
     "metadata": {},
     "output_type": "execute_result"
    }
   ],
   "source": [
    "(u + 2) ^ ((q - 1) / 6)"
   ]
  },
  {
   "cell_type": "code",
   "execution_count": 3,
   "id": "quality-marketing",
   "metadata": {},
   "outputs": [
    {
     "data": {
      "text/plain": [
       "102211695604069718983520304652693874995639508460729604902280098199792736381528662976886082950231100101353700265360419596271313339023462"
      ]
     },
     "execution_count": 3,
     "metadata": {},
     "output_type": "execute_result"
    }
   ],
   "source": [
    "(u + 2) ^ ((q^2 - 1) / 6)"
   ]
  },
  {
   "cell_type": "code",
   "execution_count": 4,
   "id": "sized-fiction",
   "metadata": {},
   "outputs": [
    {
     "data": {
      "text/plain": [
       "98202145326702719011905029161216875179629076601282094637705363523989327089994733026759404560815262469520660620712086230011777030377672*u + 98043324585572268295749131080830547638714144260303403268026015066966059098909789843967179434240036992280087942410221651782540408050865"
      ]
     },
     "execution_count": 4,
     "metadata": {},
     "output_type": "execute_result"
    }
   ],
   "source": [
    "(u + 2) ^ ((q^3 - 1) / 6)"
   ]
  },
  {
   "cell_type": "code",
   "execution_count": 5,
   "id": "desirable-publication",
   "metadata": {},
   "outputs": [
    {
     "data": {
      "text/plain": [
       "1"
      ]
     },
     "execution_count": 5,
     "metadata": {},
     "output_type": "execute_result"
    }
   ],
   "source": [
    "(u + 2) ^ ((q^4 - 1) / 6)"
   ]
  },
  {
   "cell_type": "code",
   "execution_count": 6,
   "id": "equal-ceramic",
   "metadata": {},
   "outputs": [
    {
     "data": {
      "text/plain": [
       "4009550277366999971615275491476999816010431859447510264574734675803409291533929950126678389415837631833039644648333366259536308645791*u + 4168371018497450687771173571863327356925364200426201634254083132826677282618873132918903515991063109073612322950197944488772930972598"
      ]
     },
     "execution_count": 6,
     "metadata": {},
     "output_type": "execute_result"
    }
   ],
   "source": [
    "(u + 2) ^ ((q^5 - 1) / 6)"
   ]
  },
  {
   "cell_type": "code",
   "execution_count": 7,
   "id": "biological-organizer",
   "metadata": {},
   "outputs": [
    {
     "data": {
      "text/plain": [
       "102211695604069718983520304652693874995639508460729604902280098199792736381528662976886082950231100101353700265360419596271313339023462"
      ]
     },
     "execution_count": 7,
     "metadata": {},
     "output_type": "execute_result"
    }
   ],
   "source": [
    "(u + 2) ^ ((q^6 - 1) / 6)"
   ]
  },
  {
   "cell_type": "code",
   "execution_count": 8,
   "id": "communist-broadcasting",
   "metadata": {},
   "outputs": [
    {
     "data": {
      "text/plain": [
       "98202145326702719011905029161216875179629076601282094637705363523989327089994733026759404560815262469520660620712086230011777030377672*u + 98043324585572268295749131080830547638714144260303403268026015066966059098909789843967179434240036992280087942410221651782540408050865"
      ]
     },
     "execution_count": 8,
     "metadata": {},
     "output_type": "execute_result"
    }
   ],
   "source": [
    "(u + 2) ^ ((q^7 - 1) / 6)"
   ]
  },
  {
   "cell_type": "code",
   "execution_count": 9,
   "id": "eastern-hudson",
   "metadata": {},
   "outputs": [
    {
     "data": {
      "text/plain": [
       "1"
      ]
     },
     "execution_count": 9,
     "metadata": {},
     "output_type": "execute_result"
    }
   ],
   "source": [
    "(u + 2) ^ ((q^8 - 1) / 6)"
   ]
  },
  {
   "cell_type": "code",
   "execution_count": 10,
   "id": "characteristic-crystal",
   "metadata": {},
   "outputs": [
    {
     "data": {
      "text/plain": [
       "4009550277366999971615275491476999816010431859447510264574734675803409291533929950126678389415837631833039644648333366259536308645791*u + 4168371018497450687771173571863327356925364200426201634254083132826677282618873132918903515991063109073612322950197944488772930972598"
      ]
     },
     "execution_count": 10,
     "metadata": {},
     "output_type": "execute_result"
    }
   ],
   "source": [
    "(u + 2) ^ ((q^9 - 1) / 6)"
   ]
  },
  {
   "cell_type": "code",
   "execution_count": 11,
   "id": "elect-endorsement",
   "metadata": {},
   "outputs": [
    {
     "data": {
      "text/plain": [
       "102211695604069718983520304652693874995639508460729604902280098199792736381528662976886082950231100101353700265360419596271313339023462"
      ]
     },
     "execution_count": 11,
     "metadata": {},
     "output_type": "execute_result"
    }
   ],
   "source": [
    "(u + 2) ^ ((q^10 - 1) / 6)"
   ]
  },
  {
   "cell_type": "code",
   "execution_count": 12,
   "id": "union-evidence",
   "metadata": {},
   "outputs": [
    {
     "data": {
      "text/plain": [
       "98202145326702719011905029161216875179629076601282094637705363523989327089994733026759404560815262469520660620712086230011777030377672*u + 98043324585572268295749131080830547638714144260303403268026015066966059098909789843967179434240036992280087942410221651782540408050865"
      ]
     },
     "execution_count": 12,
     "metadata": {},
     "output_type": "execute_result"
    }
   ],
   "source": [
    "(u + 2) ^ ((q^11 - 1) / 6)"
   ]
  },
  {
   "cell_type": "code",
   "execution_count": null,
   "id": "diagnostic-welcome",
   "metadata": {},
   "outputs": [],
   "source": []
  }
 ],
 "metadata": {
  "kernelspec": {
   "display_name": "SageMath 9.2",
   "language": "sage",
   "name": "sagemath"
  },
  "language_info": {
   "codemirror_mode": {
    "name": "ipython",
    "version": 3
   },
   "file_extension": ".py",
   "mimetype": "text/x-python",
   "name": "python",
   "nbconvert_exporter": "python",
   "pygments_lexer": "ipython3",
   "version": "3.9.1"
  }
 },
 "nbformat": 4,
 "nbformat_minor": 5
}
