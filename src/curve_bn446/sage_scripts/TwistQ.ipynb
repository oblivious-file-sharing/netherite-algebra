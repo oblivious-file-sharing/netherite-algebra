{
 "cells": [
  {
   "cell_type": "code",
   "execution_count": 1,
   "id": "equivalent-trail",
   "metadata": {},
   "outputs": [],
   "source": [
    "q = 102211695604069718983520304652693874995639508460729604902280098199792736381528662976886082950231100101353700265360419596271313339023463\n",
    "F = GF(q)\n",
    "K2.<x> = PolynomialRing(F)\n",
    "K.<a> = GF(q**2, name='a', modulus=x ^ 2 + 1)\n",
    "F2.<u> = F.extension(x ^ 2 + 1)\n",
    "\n",
    "# towering is extermely slow in sage, be careful"
   ]
  },
  {
   "cell_type": "code",
   "execution_count": 2,
   "id": "exceptional-rendering",
   "metadata": {},
   "outputs": [
    {
     "data": {
      "text/plain": [
       "5393231721065334756362625835983113080313424024761601467014417219216618807287538532710945997317209942300317586393031070080437903353500*u + 53558153621011479325426349315034270811125322046590322609779102882474382564304429471746703023140803971148477652553414598986280728688467"
      ]
     },
     "execution_count": 2,
     "metadata": {},
     "output_type": "execute_result"
    }
   ],
   "source": [
    "(u + 16) ^ ((q - 1) / 3)"
   ]
  },
  {
   "cell_type": "code",
   "execution_count": 3,
   "id": "british-bulgaria",
   "metadata": {},
   "outputs": [
    {
     "data": {
      "text/plain": [
       "43557026439475285310086886777555239794145443705278081036303457819691464866819083503120171079672697756592696808936652336617039817572795*u + 21887007078230277641290487545977304048816498067966680983946484526191854625712817027111151245647874878790862350313619445339436239665199"
      ]
     },
     "execution_count": 3,
     "metadata": {},
     "output_type": "execute_result"
    }
   ],
   "source": [
    "(u + 16) ^ ((q - 1) / 2)"
   ]
  },
  {
   "cell_type": "code",
   "execution_count": null,
   "id": "comprehensive-sheriff",
   "metadata": {},
   "outputs": [],
   "source": []
  }
 ],
 "metadata": {
  "kernelspec": {
   "display_name": "SageMath 9.2",
   "language": "sage",
   "name": "sagemath"
  },
  "language_info": {
   "codemirror_mode": {
    "name": "ipython",
    "version": 3
   },
   "file_extension": ".py",
   "mimetype": "text/x-python",
   "name": "python",
   "nbconvert_exporter": "python",
   "pygments_lexer": "ipython3",
   "version": "3.9.1"
  }
 },
 "nbformat": 4,
 "nbformat_minor": 5
}
