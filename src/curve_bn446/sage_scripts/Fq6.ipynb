{
 "cells": [
  {
   "cell_type": "code",
   "execution_count": 1,
   "id": "daily-dependence",
   "metadata": {},
   "outputs": [],
   "source": [
    "q = 102211695604069718983520304652693874995639508460729604902280098199792736381528662976886082950231100101353700265360419596271313339023463\n",
    "F = GF(q)\n",
    "K2.<x> = PolynomialRing(F)\n",
    "K.<a> = GF(q**2, name='a', modulus=x ^ 2 + 1)\n",
    "F2.<u> = F.extension(x ^ 2 + 1)\n",
    "K6.<y> = PolynomialRing(F2)\n",
    "F6.<v> = F2.extension(y ^ 3 - (u + 2))\n",
    "\n",
    "# towering is extermely slow in sage, be careful"
   ]
  },
  {
   "cell_type": "code",
   "execution_count": 2,
   "id": "failing-pattern",
   "metadata": {},
   "outputs": [
    {
     "data": {
      "text/plain": [
       "89269107654347733945828879633805706030959265598026923170063258386115503693153659076847549113334040039608678031457533751427878557104776*u + 29958365884390505595810984941340734449227790005811238189914472478418123143937693791021522922389308701048955965019138683526204664606731"
      ]
     },
     "execution_count": 2,
     "metadata": {},
     "output_type": "execute_result"
    }
   ],
   "source": [
    "(u + 2) ^ ((q - 1) / 3)"
   ]
  },
  {
   "cell_type": "code",
   "execution_count": 3,
   "id": "cleared-revolution",
   "metadata": {},
   "outputs": [
    {
     "data": {
      "text/plain": [
       "1"
      ]
     },
     "execution_count": 3,
     "metadata": {},
     "output_type": "execute_result"
    }
   ],
   "source": [
    "(u + 2) ^ ((q^2 - 1) / 3)"
   ]
  },
  {
   "cell_type": "code",
   "execution_count": 4,
   "id": "technical-representative",
   "metadata": {},
   "outputs": [
    {
     "data": {
      "text/plain": [
       "89269107654347733945828879633805706030959265598026923170063258386115503693153659076847549113334040039608678031457533751427878557104776*u + 29958365884390505595810984941340734449227790005811238189914472478418123143937693791021522922389308701048955965019138683526204664606731"
      ]
     },
     "execution_count": 4,
     "metadata": {},
     "output_type": "execute_result"
    }
   ],
   "source": [
    "(u + 2) ^ ((q^3 - 1) / 3)"
   ]
  },
  {
   "cell_type": "code",
   "execution_count": 5,
   "id": "lesbian-biodiversity",
   "metadata": {},
   "outputs": [
    {
     "data": {
      "text/plain": [
       "1"
      ]
     },
     "execution_count": 5,
     "metadata": {},
     "output_type": "execute_result"
    }
   ],
   "source": [
    "(u + 2) ^ ((q^4 - 1) / 3)"
   ]
  },
  {
   "cell_type": "code",
   "execution_count": 6,
   "id": "considerable-sunset",
   "metadata": {},
   "outputs": [
    {
     "data": {
      "text/plain": [
       "89269107654347733945828879633805706030959265598026923170063258386115503693153659076847549113334040039608678031457533751427878557104776*u + 29958365884390505595810984941340734449227790005811238189914472478418123143937693791021522922389308701048955965019138683526204664606731"
      ]
     },
     "execution_count": 6,
     "metadata": {},
     "output_type": "execute_result"
    }
   ],
   "source": [
    "(u + 2) ^ ((q^5 - 1) / 3)"
   ]
  },
  {
   "cell_type": "code",
   "execution_count": 7,
   "id": "another-nature",
   "metadata": {},
   "outputs": [
    {
     "data": {
      "text/plain": [
       "4241199183134730342670127988799088818553815405118539467854545545430388374180579902583118554273009096478588621398504479339359805270520*u + 89656107252853722777751913771531300838664573370086651241090214257868301865979817180775390593089893330837611525350043643753258627713066"
      ]
     },
     "execution_count": 7,
     "metadata": {},
     "output_type": "execute_result"
    }
   ],
   "source": [
    "(u + 2) ^ ((2*q - 2) / 3)"
   ]
  },
  {
   "cell_type": "code",
   "execution_count": 8,
   "id": "legal-senior",
   "metadata": {},
   "outputs": [
    {
     "data": {
      "text/plain": [
       "1"
      ]
     },
     "execution_count": 8,
     "metadata": {},
     "output_type": "execute_result"
    }
   ],
   "source": [
    "(u + 2) ^ ((2*(q^2) - 2) / 3)"
   ]
  },
  {
   "cell_type": "code",
   "execution_count": 9,
   "id": "greek-addition",
   "metadata": {},
   "outputs": [
    {
     "data": {
      "text/plain": [
       "4241199183134730342670127988799088818553815405118539467854545545430388374180579902583118554273009096478588621398504479339359805270520*u + 89656107252853722777751913771531300838664573370086651241090214257868301865979817180775390593089893330837611525350043643753258627713066"
      ]
     },
     "execution_count": 9,
     "metadata": {},
     "output_type": "execute_result"
    }
   ],
   "source": [
    "(u + 2) ^ ((2*(q^3) - 2) / 3)"
   ]
  },
  {
   "cell_type": "code",
   "execution_count": 10,
   "id": "possible-track",
   "metadata": {},
   "outputs": [
    {
     "data": {
      "text/plain": [
       "1"
      ]
     },
     "execution_count": 10,
     "metadata": {},
     "output_type": "execute_result"
    }
   ],
   "source": [
    "(u + 2) ^ ((2*(q^4) - 2) / 3)"
   ]
  },
  {
   "cell_type": "code",
   "execution_count": 11,
   "id": "excited-syntax",
   "metadata": {},
   "outputs": [
    {
     "data": {
      "text/plain": [
       "4241199183134730342670127988799088818553815405118539467854545545430388374180579902583118554273009096478588621398504479339359805270520*u + 89656107252853722777751913771531300838664573370086651241090214257868301865979817180775390593089893330837611525350043643753258627713066"
      ]
     },
     "execution_count": 11,
     "metadata": {},
     "output_type": "execute_result"
    }
   ],
   "source": [
    "(u + 2) ^ ((2*(q^5) - 2) / 3)"
   ]
  },
  {
   "cell_type": "code",
   "execution_count": null,
   "id": "offensive-definition",
   "metadata": {},
   "outputs": [],
   "source": []
  }
 ],
 "metadata": {
  "kernelspec": {
   "display_name": "SageMath 9.2",
   "language": "sage",
   "name": "sagemath"
  },
  "language_info": {
   "codemirror_mode": {
    "name": "ipython",
    "version": 3
   },
   "file_extension": ".py",
   "mimetype": "text/x-python",
   "name": "python",
   "nbconvert_exporter": "python",
   "pygments_lexer": "ipython3",
   "version": "3.9.1"
  }
 },
 "nbformat": 4,
 "nbformat_minor": 5
}
