{
 "cells": [
  {
   "cell_type": "code",
   "execution_count": 1,
   "id": "coated-wrapping",
   "metadata": {},
   "outputs": [],
   "source": [
    "z = (2^110 + 2^36 + 1)"
   ]
  },
  {
   "cell_type": "code",
   "execution_count": 2,
   "id": "twenty-philippines",
   "metadata": {},
   "outputs": [],
   "source": [
    "p = 36 * z^4 + 36 * z^3 + 24 * z^2 + 6 * z + 1 "
   ]
  },
  {
   "cell_type": "code",
   "execution_count": 3,
   "id": "different-prospect",
   "metadata": {},
   "outputs": [
    {
     "name": "stdout",
     "output_type": "stream",
     "text": [
      "102211695604069718983520304652693874995639508460729604902280098199792736381528662976886082950231100101353700265360419596271313339023463\n",
      "21028159881319u64,\n",
      "24699429206449152u64,\n",
      "9727775195305082880u64,\n",
      "103079215104u64,\n",
      "14843406975516u64,\n",
      "10133099161767936u64,\n",
      "2594073385365405696u64,\n"
     ]
    }
   ],
   "source": [
    "def print_repr(x):\n",
    "    a1 = x % 2^64\n",
    "    x = x - a1\n",
    "    x /= 2^64\n",
    "    a2 = x % 2^64\n",
    "    x = x - a2\n",
    "    x /= 2^64\n",
    "    a3 = x % 2^64\n",
    "    x = x - a3\n",
    "    x /= 2^64\n",
    "    a4 = x % 2^64\n",
    "    x = x - a4\n",
    "    x /= 2^64\n",
    "    a5 = x % 2^64\n",
    "    x = x - a5\n",
    "    x /= 2^64\n",
    "    a6 = x % 2^64\n",
    "    x = x - a6\n",
    "    x /= 2^64\n",
    "    a7 = x\n",
    "    print(\"{}u64,\".format(a1))\n",
    "    print(\"{}u64,\".format(a2))\n",
    "    print(\"{}u64,\".format(a3))\n",
    "    print(\"{}u64,\".format(a4))\n",
    "    print(\"{}u64,\".format(a5))\n",
    "    print(\"{}u64,\".format(a6))\n",
    "    print(\"{}u64,\".format(a7))\n",
    "print(p)\n",
    "print_repr(p)"
   ]
  },
  {
   "cell_type": "code",
   "execution_count": 4,
   "id": "homeless-blind",
   "metadata": {},
   "outputs": [
    {
     "name": "stdout",
     "output_type": "stream",
     "text": [
      "11356855067118857664681675319147409384164801462210825965529511782090133442697282487988470062145864851286619748743240759635408255450415\n",
      "18446596876590382383u64,\n",
      "18273848069264407551u64,\n",
      "5692549927702626303u64,\n",
      "18446743352155045884u64,\n",
      "18446640169860723003u64,\n",
      "18375812379577176063u64,\n",
      "288230376151711743u64,\n"
     ]
    }
   ],
   "source": [
    "r = 2^448 % p\n",
    "print(r)\n",
    "print_repr(r)"
   ]
  },
  {
   "cell_type": "code",
   "execution_count": 5,
   "id": "superb-senate",
   "metadata": {},
   "outputs": [
    {
     "name": "stdout",
     "output_type": "stream",
     "text": [
      "22713118617831208709320393974688942090415090362621460428711217095019732131795737685795579927413090226263955679116345985416547095433694\n",
      "15226258013123662302u64,\n",
      "10862166246390342314u64,\n",
      "13776351249927989378u64,\n",
      "4091262347089019733u64,\n",
      "6442809140437287942u64,\n",
      "6919780807063966150u64,\n",
      "576445739961068170u64,\n"
     ]
    }
   ],
   "source": [
    "r2 = r * r % p\n",
    "print(r2)\n",
    "print_repr(r2)"
   ]
  },
  {
   "cell_type": "code",
   "execution_count": 6,
   "id": "tribal-signal",
   "metadata": {},
   "outputs": [
    {
     "name": "stdout",
     "output_type": "stream",
     "text": [
      "7770619218252063913\n"
     ]
    }
   ],
   "source": [
    "inv = pow(-p, -1, 2^64) \n",
    "print(inv)"
   ]
  },
  {
   "cell_type": "code",
   "execution_count": null,
   "id": "internal-desperate",
   "metadata": {},
   "outputs": [],
   "source": [
    "factor(p - 1)"
   ]
  },
  {
   "cell_type": "code",
   "execution_count": null,
   "id": "accurate-diving",
   "metadata": {},
   "outputs": [],
   "source": [
    "gen = 3\n",
    "print(pow(gen, (p - 1) / 2, p))\n",
    "print(pow(gen, (p - 1) / 3, p))\n",
    "print(pow(gen, (p - 1) / 11, p))\n",
    "print(pow(gen, (p - 1) / 373, p))\n",
    "print(pow(gen, (p - 1) / 1777, p))\n",
    "print(pow(gen, (p - 1) / 4999, p))\n",
    "print(pow(gen, (p - 1) / 8243, p))\n",
    "print(pow(gen, (p - 1) / 43037, p))\n",
    "print(pow(gen, (p - 1) / 25781083, p))\n",
    "print(pow(gen, (p - 1) / 2420302828357, p))\n",
    "print(pow(gen, (p - 1) / 6053720432001185351, p))\n",
    "print(pow(gen, (p - 1) / 1162613844024428196379488035662156878165629976298431286074374686829934969341, p))"
   ]
  },
  {
   "cell_type": "code",
   "execution_count": null,
   "id": "numerical-brief",
   "metadata": {},
   "outputs": [],
   "source": [
    "gen_m = gen * r % p\n",
    "print(gen_m)\n",
    "print_repr(gen_m)"
   ]
  },
  {
   "cell_type": "code",
   "execution_count": null,
   "id": "biblical-checklist",
   "metadata": {},
   "outputs": [],
   "source": [
    "p_minus_1_div_2 = (p - 1) / 2\n",
    "print(p_minus_1_div_2)\n",
    "print_repr(p_minus_1_div_2)"
   ]
  },
  {
   "cell_type": "code",
   "execution_count": null,
   "id": "dangerous-colony",
   "metadata": {},
   "outputs": [],
   "source": [
    "t = p_minus_1_div_2 # due to 2-arity being 1"
   ]
  },
  {
   "cell_type": "code",
   "execution_count": null,
   "id": "compliant-coordinate",
   "metadata": {},
   "outputs": [],
   "source": [
    "t_minus_1_div_2 = (t - 1) / 2\n",
    "print(t_minus_1_div_2)\n",
    "print_repr(t_minus_1_div_2)"
   ]
  },
  {
   "cell_type": "code",
   "execution_count": null,
   "id": "higher-ordinance",
   "metadata": {},
   "outputs": [],
   "source": [
    "two_adic_root_of_unity = pow(gen, t, p)\n",
    "print(two_adic_root_of_unity)"
   ]
  },
  {
   "cell_type": "code",
   "execution_count": null,
   "id": "invalid-faith",
   "metadata": {},
   "outputs": [],
   "source": [
    "two_adic_root_of_unity_m = Integer(two_adic_root_of_unity * r % p)\n",
    "print(two_adic_root_of_unity_m)\n",
    "print_repr(two_adic_root_of_unity_m)"
   ]
  },
  {
   "cell_type": "code",
   "execution_count": null,
   "id": "ruled-source",
   "metadata": {},
   "outputs": [],
   "source": []
  }
 ],
 "metadata": {
  "kernelspec": {
   "display_name": "SageMath 9.2",
   "language": "sage",
   "name": "sagemath"
  },
  "language_info": {
   "codemirror_mode": {
    "name": "ipython",
    "version": 3
   },
   "file_extension": ".py",
   "mimetype": "text/x-python",
   "name": "python",
   "nbconvert_exporter": "python",
   "pygments_lexer": "ipython3",
   "version": "3.9.1"
  }
 },
 "nbformat": 4,
 "nbformat_minor": 5
}
